{
 "cells": [
  {
   "cell_type": "markdown",
   "metadata": {},
   "source": [
    "# Experimentation with other Edge Detection Techniques\n",
    "### J. Cristiano\n",
    "The purpose of this notebook is to experiment with Edge detection operators and supporting algorithms that I may have overlooked. \n",
    "\n",
    "Currently, The [best that I have to offer](./plantCV_notebook.ipynb) is based on the 3x3 Sobel operator that calculates the first derivative of the image. \n",
    "\n",
    "But after [reading more](https://en.wikipedia.org/wiki/Canny_edge_detector) it occurs to me that I might have made premature conclusions on what is the \"cutting edge\" of edge detection based image segmentation.\n",
    "\n",
    "This notebook hopes to be a more comprehensive approach."
   ]
  },
  {
   "cell_type": "markdown",
   "metadata": {},
   "source": [
    "### Experimental Design\n",
    "I'll use the 2 images that I developed my algorithm on as well as a third image that performed really poorly."
   ]
  },
  {
   "cell_type": "code",
   "execution_count": 1,
   "metadata": {},
   "outputs": [],
   "source": [
    "#import block\n",
    "%matplotlib inline\n",
    "import matplotlib.pyplot as plt\n",
    "import cv2\n",
    "import numpy as np\n",
    "from plantcv import plantcv as pcv\n",
    "import os\n"
   ]
  },
  {
   "cell_type": "code",
   "execution_count": 2,
   "metadata": {},
   "outputs": [
    {
     "name": "stdout",
     "output_type": "stream",
     "text": [
      "[]\n"
     ]
    }
   ],
   "source": [
    "image_list = [file for file in os.listdir() if file.endswith(('.png', '.jpg', '.jpeg'))]\n",
    "print(image_list)"
   ]
  },
  {
   "cell_type": "markdown",
   "metadata": {},
   "source": [
    "First, lets make a function to display the images before and after the algorithm "
   ]
  },
  {
   "cell_type": "code",
   "execution_count": null,
   "metadata": {},
   "outputs": [],
   "source": [
    "def build_a_plot(before,after,cmap):\n",
    "    plt.subplot(121),plt.imshow(before,cmap=cmap),plt.title('Input')\n",
    "    plt.xticks([]), plt.yticks([])\n",
    "    plt.subplot(122),plt.imshow(after,cmap=cmap),plt.title('Output')\n",
    "    plt.xticks([]), plt.yticks([])\n",
    "    plt.show()"
   ]
  },
  {
   "cell_type": "markdown",
   "metadata": {},
   "source": [
    "### Canny Edge Detection\n",
    "\n",
    "This [algorithm designed in 1986](https://ieeexplore.ieee.org/document/4767851) is used widely in edge detection problems.\n",
    "\n",
    "Its also already implemented in libraries such as openCV and plantCV\n",
    "\n",
    "I'll implement from scratch first to explain the process\n"
   ]
  },
  {
   "cell_type": "markdown",
   "metadata": {},
   "source": [
    "#### Step 1: Filtering Gaussian Noise\n",
    "Gaussian noise is described as signal noise with a probability density function that resembles a gaussian (normal) distribution. In images, this is commonly caused by electrical circuit noise in the camera sensor, a problem that isn't going away anytime soon."
   ]
  },
  {
   "cell_type": "code",
   "execution_count": null,
   "metadata": {},
   "outputs": [],
   "source": []
  }
 ],
 "metadata": {
  "kernelspec": {
   "display_name": "Python 3 (ipykernel)",
   "language": "python",
   "name": "python3"
  },
  "language_info": {
   "codemirror_mode": {
    "name": "ipython",
    "version": 3
   },
   "file_extension": ".py",
   "mimetype": "text/x-python",
   "name": "python",
   "nbconvert_exporter": "python",
   "pygments_lexer": "ipython3",
   "version": "3.10.12"
  }
 },
 "nbformat": 4,
 "nbformat_minor": 2
}
