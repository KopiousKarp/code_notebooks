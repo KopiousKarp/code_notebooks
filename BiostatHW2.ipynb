{
 "cells": [
  {
   "cell_type": "markdown",
   "metadata": {},
   "source": [
    "# Biostat HW2\n",
    "Joseph Cristiano\n",
    "9/23/2024 \n",
    "1) If X is a normal random variable with parameters (mean = 10, variance=36) compute\n",
    "\n",
    "   a) P(X>5);\n",
    "\n",
    "   b) P(4<X<16);\n",
    "\n",
    "   c) P(X<8);\n",
    "\n",
    "   d) P(X<20);\n",
    "\n",
    "   e) P(X>16)."
   ]
  },
  {
   "cell_type": "code",
   "execution_count": 2,
   "metadata": {},
   "outputs": [
    {
     "name": "stdout",
     "output_type": "stream",
     "text": [
      "Collecting scipy\n",
      "  Downloading scipy-1.14.1-cp310-cp310-manylinux_2_17_x86_64.manylinux2014_x86_64.whl (41.2 MB)\n",
      "\u001b[2K     \u001b[90m━━━━━━━━━━━━━━━━━━━━━━━━━━━━━━━━━━━━━━━━\u001b[0m \u001b[32m41.2/41.2 MB\u001b[0m \u001b[31m28.1 MB/s\u001b[0m eta \u001b[36m0:00:00\u001b[0m00:01\u001b[0m00:01\u001b[0m\n",
      "\u001b[?25hRequirement already satisfied: numpy<2.3,>=1.23.5 in /opt/sam2_env/lib/python3.10/site-packages (from scipy) (1.26.3)\n",
      "Installing collected packages: scipy\n",
      "Successfully installed scipy-1.14.1\n",
      "\n",
      "\u001b[1m[\u001b[0m\u001b[34;49mnotice\u001b[0m\u001b[1;39;49m]\u001b[0m\u001b[39;49m A new release of pip is available: \u001b[0m\u001b[31;49m23.0.1\u001b[0m\u001b[39;49m -> \u001b[0m\u001b[32;49m24.2\u001b[0m\n",
      "\u001b[1m[\u001b[0m\u001b[34;49mnotice\u001b[0m\u001b[1;39;49m]\u001b[0m\u001b[39;49m To update, run: \u001b[0m\u001b[32;49mpip install --upgrade pip\u001b[0m\n"
     ]
    }
   ],
   "source": [
    "!pip install scipy"
   ]
  },
  {
   "cell_type": "code",
   "execution_count": 4,
   "metadata": {},
   "outputs": [
    {
     "name": "stdout",
     "output_type": "stream",
     "text": [
      "A:  0.7976716190363569\n",
      "B:  0.6826894921370859\n",
      "C:  0.36944134018176367\n",
      "D:  0.9522096477271853\n",
      "E:  0.15865525393145707\n"
     ]
    }
   ],
   "source": [
    "import scipy.stats as stats\n",
    "def calculate_probability(mean, std_dev, lower_bound, upper_bound):\n",
    "    \"\"\"\n",
    "    Calculate the probability of a random variable falling within a range for a normal distribution.\n",
    "\n",
    "    Parameters:\n",
    "    mean (float): Mean of the normal distribution\n",
    "    std_dev (float): Standard deviation of the normal distribution\n",
    "    lower_bound (float): Lower bound of the range\n",
    "    upper_bound (float): Upper bound of the range\n",
    "\n",
    "    Returns:\n",
    "    float: Probability of the random variable falling within the range\n",
    "    \"\"\"\n",
    "    # Calculate the CDF values at the lower and upper bounds\n",
    "    lower_cdf = stats.norm.cdf(lower_bound, loc=mean, scale=std_dev)\n",
    "    upper_cdf = stats.norm.cdf(upper_bound, loc=mean, scale=std_dev)\n",
    "    \n",
    "    # Calculate the probability of falling within the range\n",
    "    probability = upper_cdf - lower_cdf\n",
    "    \n",
    "    return probability\n",
    "\n",
    "# Create a list of 5 tuples with (mean, std_dev, lower_bound, upper_bound)\n",
    "parameters_list = [\n",
    "    (10, 6, 5, float('inf')),  # For P(X>5)\n",
    "    (10, 6, 4, 16),            # For P(4<X<16)\n",
    "    (10, 6, float('-inf'), 8), # For P(X<8)\n",
    "    (10, 6, float('-inf'), 20),# For P(X<20)\n",
    "    (10, 6, 16, float('inf'))  # For P(X>16)\n",
    "]\n",
    "for i, parameter_set in enumerate(parameters_list):\n",
    "    print([\"A: \",\"B: \" ,\"C: \",\"D: \",\"E: \"][i],calculate_probability(parameter_set[0],parameter_set[1],parameter_set[2],parameter_set[3]))"
   ]
  },
  {
   "cell_type": "markdown",
   "metadata": {},
   "source": [
    "2) If X is a binomial random variable with expected value (mean) 6 and variance 2.4, find P(X=5)."
   ]
  },
  {
   "cell_type": "code",
   "execution_count": 6,
   "metadata": {},
   "outputs": [
    {
     "name": "stdout",
     "output_type": "stream",
     "text": [
      "P(X = 5) = 0.20065812479999992\n"
     ]
    }
   ],
   "source": [
    "from scipy.stats import binom\n",
    "probability = binom.pmf(5, 10, 0.6)\n",
    "print(f\"P(X = 5) = {probability}\")"
   ]
  },
  {
   "cell_type": "markdown",
   "metadata": {},
   "source": [
    "3)  Determine whether the given scenario below describes a binomial setting. Justify your answer.\n",
    "\n",
    "     Genetics indicates that the genes children receive from their parents are independent from one child to another. Each child of a particular set parent  has probability 0.25 of having type O blood. Suppose these parents have 5 children. Calculate the probabilities of the number of children with type O blood.\n",
    "\n",
    ">This is a binomial setting because the outcome being measured as boolean (O type or not)  "
   ]
  },
  {
   "cell_type": "markdown",
   "metadata": {},
   "source": [
    "4) On average, 5.2 deaths in a hospital in a week.  What is the probability that there will be 3 or fewer deaths this week? "
   ]
  },
  {
   "cell_type": "code",
   "execution_count": 7,
   "metadata": {},
   "outputs": [
    {
     "name": "stdout",
     "output_type": "stream",
     "text": [
      "P(X = 3) = 0.1292788483457217\n"
     ]
    }
   ],
   "source": [
    "from scipy.stats import poisson\n",
    "# Parameters\n",
    "lambda_ = 5.2  # Average rate (mean) of occurrence\n",
    "k = 3  # Number of occurrences\n",
    "probability = poisson.pmf(k, lambda_)\n",
    "print(f\"P(X = {k}) = {probability}\")"
   ]
  },
  {
   "cell_type": "markdown",
   "metadata": {},
   "source": [
    "5)  To determine the effectiveness of a certain diet in reducing the amount of cholesterol in the bloodstream, 100 people are put on the diet.  After they have been on the diet for a sufficient length of time, their cholesterol count will be taken. The nutritionist running this experiment has decided to endorse the diet if at least 65 percent of the people have a lower cholesterol count after doing on the diet.  What is the probability that the nutritionist endorse the new diet if, in fact, it has no effect on the cholesterol level?   (Hint: if the diet has no effect on the cholesterol count,  then each person's cholesterol count will be lower than it was before the diet with probability, just strictly by chance)     \n"
   ]
  },
  {
   "cell_type": "code",
   "execution_count": 9,
   "metadata": {},
   "outputs": [
    {
     "name": "stdout",
     "output_type": "stream",
     "text": [
      "P(X = 65) = 0.0008638556657416474\n"
     ]
    }
   ],
   "source": [
    "n = 100\n",
    "p = 0.5 \n",
    "k = 65\n",
    "probability = binom.pmf(k, n, p)\n",
    "print(f\"P(X = 65) = {probability}\")"
   ]
  }
 ],
 "metadata": {
  "kernelspec": {
   "display_name": "Python 3 (ipykernel)",
   "language": "python",
   "name": "python3"
  },
  "language_info": {
   "codemirror_mode": {
    "name": "ipython",
    "version": 3
   },
   "file_extension": ".py",
   "mimetype": "text/x-python",
   "name": "python",
   "nbconvert_exporter": "python",
   "pygments_lexer": "ipython3",
   "version": "3.10.14"
  }
 },
 "nbformat": 4,
 "nbformat_minor": 2
}
