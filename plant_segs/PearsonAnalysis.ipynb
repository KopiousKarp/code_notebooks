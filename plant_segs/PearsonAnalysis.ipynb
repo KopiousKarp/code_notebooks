{
 "cells": [
  {
   "cell_type": "markdown",
   "id": "305b73f8",
   "metadata": {},
   "source": [
    "# Verifying the phenotype measurement through correlation analysis\n",
    "**Pearson correlation analysis** measures the strength and direction of the **linear relationship** between two continuous variables.\n",
    "\n",
    "* The **Pearson correlation coefficient (r)** ranges from **-1 to +1**:\n",
    "\n",
    "  * **+1** indicates a perfect positive linear relationship,\n",
    "  * **-1** indicates a perfect negative linear relationship,\n",
    "  * **0** indicates no linear relationship.\n",
    "\n",
    "The formula is:\n",
    "\n",
    "$$\n",
    "r = \\frac{\\sum (x_i - \\bar{x})(y_i - \\bar{y})}{\\sqrt{\\sum (x_i - \\bar{x})^2} \\sqrt{\\sum (y_i - \\bar{y})^2}}\n",
    "$$\n",
    "\n",
    "**Key points**:\n",
    "\n",
    "* Assumes both variables are normally distributed.\n",
    "* Sensitive to outliers.\n",
    "* Only captures linear relationships.\n",
    "\n",
    "Used when you want to test if two variables tend to increase or decrease together in a linear fashion.\n"
   ]
  },
  {
   "cell_type": "code",
   "execution_count": 37,
   "id": "693c74c6",
   "metadata": {},
   "outputs": [
    {
     "name": "stdout",
     "output_type": "stream",
     "text": [
      "/\n"
     ]
    }
   ],
   "source": [
    "import pandas as pd\n",
    "import json\n",
    "import os\n",
    "print(os.getcwd())\n",
    "# load CSV data\n",
    "root_pixel_data = pd.read_csv('/work/root_pixel_data.csv')\n",
    "\n",
    "# load JSON data\n",
    "with open('/work/stalk_images_UNET_logistic_regression_cuda.json', 'r') as f:\n",
    "    stalk_images_data = json.load(f)"
   ]
  },
  {
   "cell_type": "code",
   "execution_count": 38,
   "id": "5c78c89b",
   "metadata": {},
   "outputs": [
    {
     "name": "stdout",
     "output_type": "stream",
     "text": [
      "                                   Plant ID    Pixels/Label Height  \\\n",
      "0  stalk_images/IMG_20240715_095432_703.jpg                 70.114   \n",
      "1  stalk_images/IMG_20240716_084956_718.jpg                 71.021   \n",
      "2  stalk_images/IMG_20240716_084925_713.jpg                 69.181   \n",
      "3  stalk_images/IMG_20240715_095405_699.jpg                 73.437   \n",
      "4  stalk_images/IMG_20240725_113429_675.jpg               1018.311   \n",
      "\n",
      "     W1 roots    W2 roots    W3 roots    W4 roots      Left root Width  \\\n",
      "0           2           6           0           0               27.295   \n",
      "1          10           9           0           0               29.547   \n",
      "2           2           7           0           0               21.095   \n",
      "3           2           9           0           0               21.932   \n",
      "4           2           6           0           0              226.877   \n",
      "\n",
      "     Stalk Width    Root Height Left    Root Len Left    Root ht Right  \\\n",
      "0        123.016               141.0            124.0            142.0   \n",
      "1        135.033               239.0            101.0            240.0   \n",
      "2         82.006                79.0             89.0             70.0   \n",
      "3        115.732               163.0            149.0            118.0   \n",
      "4        194.196                92.0             98.0            107.0   \n",
      "\n",
      "       Root Len Right  \n",
      "0                82.0  \n",
      "1               128.0  \n",
      "2               144.0  \n",
      "3                81.0  \n",
      "4               244.0  \n"
     ]
    }
   ],
   "source": [
    "import pprint\n",
    "pprint.pprint(root_pixel_data.head())"
   ]
  },
  {
   "cell_type": "code",
   "execution_count": 39,
   "id": "3b3f4d53",
   "metadata": {},
   "outputs": [
    {
     "name": "stdout",
     "output_type": "stream",
     "text": [
      "{'highest_emergence': [213, 276],\n",
      " 'marker_width': 25.777830123901367,\n",
      " 'root_angle': 41.729512076816434,\n",
      " 'root_count': 11,\n",
      " 'root_width': 30.363636363636363,\n",
      " 'spread_center': [244.5, 313.0],\n",
      " 'spread_width': 129,\n",
      " 'stalk_width': 61.0}\n"
     ]
    }
   ],
   "source": [
    "# Convert JSON data to DataFrame\n",
    "stalk_images_df = pd.DataFrame(stalk_images_data)\n",
    "pprint.pprint(stalk_images_df[\"/opt/RootTaggingGUI/stalk_images/IMG_20240715_095432_703.jpg\"][\"measurements\"])"
   ]
  },
  {
   "cell_type": "code",
   "execution_count": 44,
   "id": "98fc1a6a",
   "metadata": {},
   "outputs": [],
   "source": [
    "#preprocessing \n",
    "import math\n",
    "'''\n",
    "marker width\n",
    "stalk width\n",
    "root height\n",
    "root count \n",
    "root width\n",
    "spreadwidth\n",
    "angle \n",
    "'''\n",
    "# We must generate a DataFrame with the following columns:\n",
    "# 'marker_width', 'stalk_width', 'root_height', 'root_count', 'root_width', 'spread_width', 'angle'\n",
    "# and fill it with the data from root_pixel_data and stalk_images_df\n",
    "data = {\n",
    "    'marker_width': {'RT': [], 'ours': []},\n",
    "    'stalk_width': {'RT': [], 'ours': []},\n",
    "    'root_height': {'RT': [], 'ours': []},\n",
    "    'root_count': {'RT': [], 'ours': []},\n",
    "    'root_width': {'RT': [], 'ours': []},\n",
    "    'spread_width': {'RT': [], 'ours': []},\n",
    "    'angle': {'RT': [], 'ours': []},\n",
    "}   \n",
    "\n",
    "for index, row in root_pixel_data.iterrows():\n",
    "    plant_id = '/opt/RootTaggingGUI/stalk_images/' + row['Plant ID'].split('/')[-1]  # Extract the plant ID from the file path\n",
    "    \n",
    "    data['marker_width']['ours'].append(stalk_images_df[plant_id][\"measurements\"][\"marker_width\"])\n",
    "    data['stalk_width']['ours'].append(stalk_images_df[plant_id][\"measurements\"][\"stalk_width\"])\n",
    "    root_height = stalk_images_df[plant_id][\"measurements\"][\"spread_center\"][1] - stalk_images_df[plant_id][\"measurements\"][\"highest_emergence\"][1]\n",
    "    data['root_height']['ours'].append(root_height)\n",
    "    data['root_count']['ours'].append(stalk_images_df[plant_id][\"measurements\"][\"root_count\"])\n",
    "    data['root_width']['ours'].append(stalk_images_df[plant_id][\"measurements\"][\"root_width\"])\n",
    "    data['spread_width']['ours'].append(stalk_images_df[plant_id][\"measurements\"][\"spread_width\"])\n",
    "    data['angle']['ours'].append(stalk_images_df[plant_id][\"measurements\"][\"root_angle\"])\n",
    "\n",
    "    data['marker_width']['RT'].append(row['  Pixels/Label Height'])\n",
    "    data['root_height']['RT'].append(row['  Root Height Left'])\n",
    "    data['stalk_width']['RT'].append(row['  Stalk Width'])\n",
    "    data['root_width']['RT'].append(row['    Left root Width'])\n",
    "    \n",
    "    total_root_count = row['  W1 roots'] + row['  W2 roots'] + row['  W3 roots'] + row['  W4 roots']     \n",
    "    data['root_count']['RT'].append(total_root_count)\n",
    "\n",
    "    spread_width = row['  Root Len Left'] + row['    Root Len Right']  + row['  Stalk Width']\n",
    "    data['spread_width']['RT'].append(spread_width)\n",
    "    angle = math.atan2(row['  Root Len Left'], row[\"  Root Height Left\"]) * (180 / math.pi)\n",
    "    data['angle']['RT'].append(angle)\n"
   ]
  },
  {
   "cell_type": "code",
   "execution_count": 54,
   "id": "e38af57b",
   "metadata": {},
   "outputs": [
    {
     "name": "stdout",
     "output_type": "stream",
     "text": [
      "Pearson correlation for marker_width: r = -0.181, p = 0.331\n",
      "Pearson correlation for stalk_width: r = 0.461, p = 0.009\n",
      "Pearson correlation for root_height: r = 0.467, p = 0.008\n",
      "Pearson correlation for root_count: r = 0.506, p = 0.003\n",
      "Pearson correlation for root_width: r = -0.156, p = 0.420\n",
      "Pearson correlation for spread_width: r = 0.391, p = 0.030\n",
      "Pearson correlation for angle: r = 0.288, p = 0.130\n"
     ]
    }
   ],
   "source": [
    "import numpy as np\n",
    "from scipy.stats import zscore, pearsonr\n",
    "\n",
    "for key in data:\n",
    "    # Convert lists to numpy arrays\n",
    "    arr_ours = np.array(data[key]['ours'])\n",
    "    arr_rt   = np.array(data[key]['RT'])\n",
    "\n",
    "    # Compute z-scores\n",
    "    z_ours = zscore(arr_ours)\n",
    "    z_rt   = zscore(arr_rt)\n",
    "\n",
    "    # Build mask to drop outliers beyond |z| >= 3 in either set\n",
    "    mask = (np.abs(z_ours) < 2) & (np.abs(z_rt) < 2)\n",
    "\n",
    "    # Apply mask\n",
    "    filt_ours = arr_ours[mask]\n",
    "    filt_rt   = arr_rt[mask]\n",
    "\n",
    "    # Compute Pearson’s r on filtered data\n",
    "    r, p = pearsonr(filt_ours, filt_rt)\n",
    "    print(f\"Pearson correlation for {key}: r = {r:.3f}, p = {p:.3f}\")\n",
    "\n"
   ]
  },
  {
   "cell_type": "code",
   "execution_count": null,
   "id": "d67194df",
   "metadata": {},
   "outputs": [],
   "source": []
  }
 ],
 "metadata": {
  "kernelspec": {
   "display_name": "Python 3 (ipykernel)",
   "language": "python",
   "name": "python3"
  },
  "language_info": {
   "codemirror_mode": {
    "name": "ipython",
    "version": 3
   },
   "file_extension": ".py",
   "mimetype": "text/x-python",
   "name": "python",
   "nbconvert_exporter": "python",
   "pygments_lexer": "ipython3",
   "version": "3.10.12"
  }
 },
 "nbformat": 4,
 "nbformat_minor": 5
}
