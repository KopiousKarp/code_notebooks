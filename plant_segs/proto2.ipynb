{
 "cells": [
  {
   "cell_type": "markdown",
   "metadata": {},
   "source": [
    "# Prototype 2 Concept Notebook\n",
    "J. Cristiano\n",
    "\n",
    "for a days worth of images. \n",
    "    get sam2 embeddings for all images\n",
    "    select a good sample and a bad sample\n",
    "    cosine similarity filtering \n",
    "    fewshot Sam2 \n",
    "    process"
   ]
  },
  {
   "cell_type": "code",
   "execution_count": null,
   "metadata": {},
   "outputs": [],
   "source": []
  },
  {
   "cell_type": "code",
   "execution_count": null,
   "metadata": {},
   "outputs": [],
   "source": []
  }
 ],
 "metadata": {
  "kernelspec": {
   "display_name": "Python 3 (ipykernel)",
   "language": "python",
   "name": "python3"
  }
 },
 "nbformat": 4,
 "nbformat_minor": 2
}
