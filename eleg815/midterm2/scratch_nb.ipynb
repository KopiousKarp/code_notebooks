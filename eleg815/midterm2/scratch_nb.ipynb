{
 "cells": [
  {
   "cell_type": "markdown",
   "metadata": {},
   "source": [
    "# Notes and scratch code for midterm 2\n",
    "J. Cristiano"
   ]
  },
  {
   "cell_type": "code",
   "execution_count": 1,
   "metadata": {},
   "outputs": [
    {
     "name": "stdout",
     "output_type": "stream",
     "text": [
      "Number of correct predictions: 49712\n",
      "data: (50000, 300) labels: (50000,)\n",
      "data type: float64 labels type: uint8\n"
     ]
    }
   ],
   "source": [
    "#Take a peak at the data\n",
    "\n",
    "import numpy as np\n",
    "training_data = np.load('./midterm2_training_data.npy')\n",
    "training_labels = np.load('./midterm2_training_labels.npy')\n",
    "predicted_labels = np.load('./cristiano_702431824.npy')\n",
    "\n",
    "correct_predictions = np.sum(training_labels == predicted_labels)\n",
    "print(f'Number of correct predictions: {correct_predictions}')\n",
    "print(f'data: {training_data.shape} labels: {training_labels.shape}')\n",
    "print(f'data type: {training_data.dtype} labels type: {training_labels.dtype}')"
   ]
  },
  {
   "cell_type": "code",
   "execution_count": 2,
   "metadata": {},
   "outputs": [
    {
     "name": "stdout",
     "output_type": "stream",
     "text": [
      "training data: [-9.74252683e-01 -1.80990285e+00  1.52850438e+00  5.24357702e-01\n",
      "  1.81118576e+00 -2.87250484e+00  4.76424409e-01  1.39349414e+00\n",
      "  1.71206883e+00  1.03710195e+00  4.84331507e-01  1.00171077e+00\n",
      "  4.09124392e-01  4.16235592e-01  1.57464576e+00  3.48824604e-01\n",
      "  1.81042205e+00 -3.35860496e-01  6.06989358e-01  3.21004229e-02\n",
      "  8.13890571e-02  1.82834264e-01 -4.37875922e-01 -4.25384013e-01\n",
      "  3.76413365e-01  1.11223462e-01  5.83066177e-01 -3.23374796e-02\n",
      "  9.68774874e-01  1.08183095e+00  5.21809792e-01 -4.76276697e-01\n",
      "  3.50855831e-01  5.03171899e-01 -5.24402044e-01 -7.18521809e-01\n",
      "  1.35311692e-02 -2.65223276e-01 -4.05434163e-01 -5.22130228e-01\n",
      " -2.87794696e-01 -9.35783365e-01 -2.07833190e-01 -1.33523865e-01\n",
      "  3.85584315e-01 -4.04030065e-01 -3.24807129e-01  5.46231311e-01\n",
      "  1.46899513e-01 -2.20359769e-01 -1.95782646e-01 -4.57705729e-01\n",
      " -3.37845833e-01  5.98692475e-02  2.16760747e-01 -1.32838348e-02\n",
      " -2.28737747e-01  9.13408510e-02 -3.28914642e-01 -4.01929690e-01\n",
      "  1.75215650e-01  1.05015121e-01  3.88477981e-01  5.03545304e-01\n",
      "  1.42745522e-01  4.82807973e-01  2.61575226e-01 -3.38606688e-01\n",
      "  2.55185493e-02 -3.60912156e-01  2.22360288e-01 -2.79431788e-01\n",
      "  2.33208585e-01 -2.23840802e-01 -2.37414922e-01 -4.24738859e-01\n",
      " -1.94470764e-01  1.83536533e-01 -1.82144158e-01 -2.96447943e-01\n",
      "  1.70747559e-01  6.70202059e-02 -5.08790604e-02  4.34646083e-02\n",
      "  3.15691866e-01  1.22819072e-01  1.76746293e-01 -3.42392671e-01\n",
      " -2.17963799e-01 -7.61049602e-02 -7.15875836e-03  7.13643384e-02\n",
      "  6.49520829e-02  9.40150314e-02 -1.31338166e-01 -1.04061217e-01\n",
      "  4.68038950e-03  1.51607994e-01 -1.00178437e-01 -2.33193619e-02\n",
      "  1.48815157e-01 -1.14104790e-01  1.75616367e-02 -9.19035773e-02\n",
      " -2.29516527e-01  1.57116462e-01  9.73649647e-02 -5.46005574e-02\n",
      "  1.88705841e-01 -3.92794245e-01  9.14763802e-02 -1.95893571e-01\n",
      " -3.16993938e-03  5.55058991e-02  1.95690625e-02  7.47299582e-02\n",
      " -2.35881122e-01  8.61093720e-03  9.07322325e-03 -1.23011656e-01\n",
      " -6.95649774e-02  3.10668068e-01  7.60462556e-02 -4.84345206e-02\n",
      "  1.49177427e-01  7.15543936e-02 -1.55576155e-01 -1.24030352e-02\n",
      "  2.19408849e-01 -1.05366616e-01 -1.64071932e-01 -9.04419818e-02\n",
      " -1.48316687e-01  2.54824111e-01  2.00269088e-01  1.56464905e-01\n",
      "  7.78525254e-02 -1.37745852e-02  2.19727824e-02 -1.88077513e-01\n",
      "  2.21196398e-01 -3.84571914e-02 -1.40252851e-03  6.57210564e-02\n",
      "  2.13447258e-01  1.96655758e-01 -8.28754922e-02 -1.94995859e-01\n",
      " -6.55701524e-02 -7.57753356e-03  5.18775176e-02  4.84878379e-02\n",
      "  7.10121897e-02 -1.11084949e-01  1.52826935e-01  6.81733607e-02\n",
      "  1.00040347e-01 -1.33522838e-01  9.47957316e-02 -7.88444345e-02\n",
      " -1.54372521e-01 -1.35943185e-01  6.35183788e-02 -1.39597606e-01\n",
      "  2.50488920e-01 -1.56029753e-01  8.68455473e-02 -3.12287849e-02\n",
      "  8.71728488e-02 -2.77772821e-02 -3.16492582e-02  9.13592813e-02\n",
      " -8.39146985e-02  2.96026280e-02 -1.07419913e-02  4.01528541e-02\n",
      "  6.27988190e-02  2.02345143e-01  3.13032032e-02  1.05493931e-01\n",
      "  9.33148927e-02  9.70723540e-02  2.33413749e-03 -1.45025571e-02\n",
      "  3.98351637e-02 -4.78095990e-02 -1.49570848e-02 -1.04267910e-01\n",
      " -2.66545013e-02 -7.29675684e-02 -1.06251158e-01 -1.17184260e-01\n",
      " -1.43595950e-01  9.13037140e-02 -8.91959775e-02 -6.34317107e-02\n",
      "  1.15051206e-01  1.11795188e-01 -3.95082285e-02 -1.44471578e-02\n",
      " -1.24882959e-01  2.10456766e-02  6.02375185e-02  1.24383053e-01\n",
      "  1.37186138e-02  5.27454112e-02 -6.10517042e-02 -5.40266168e-02\n",
      " -1.10715380e-01 -2.58914275e-02 -5.46580158e-02  1.17983547e-02\n",
      " -7.81954445e-02  2.21283678e-01 -2.03381753e-01  8.36180669e-03\n",
      " -7.40769472e-02  7.43538236e-02 -6.70821799e-02 -2.43074557e-02\n",
      " -1.57849038e-01 -5.57604396e-02 -1.76210884e-03  8.74346634e-02\n",
      " -5.80167326e-02 -1.27132711e-01 -6.49153331e-02  4.58568106e-02\n",
      " -5.79775249e-02  1.34655427e-01  3.16370286e-02  3.11581795e-02\n",
      "  2.46570055e-02 -1.23790061e-01 -7.78062661e-02 -2.82863460e-02\n",
      " -9.20435898e-02 -8.18823543e-02  1.21485835e-01 -1.16747685e-01\n",
      " -9.64509145e-03  2.94659723e-02  2.02522089e-01  1.01676936e-01\n",
      "  2.50985191e-02 -1.20987629e-01  1.84203482e-02 -1.69502134e-01\n",
      "  5.50077449e-02  1.32483067e-01  1.88540702e-02  8.50469044e-02\n",
      " -3.02841068e-02  8.23817419e-02 -1.34321509e-01 -4.09882016e-02\n",
      " -6.40676516e-02 -4.12237101e-02 -5.11220817e-02  6.80826366e-02\n",
      "  8.23180802e-02  1.05690123e-01 -4.61561674e-02  1.75440404e-02\n",
      "  7.88233085e-02  1.03350755e-01 -1.21462732e-01 -1.15270329e-01\n",
      " -4.44459044e-02  6.01562702e-02  1.18701760e-01  5.61088976e-02\n",
      "  3.25411861e-02 -1.28238641e-01 -8.11151366e-02  7.97925477e-02\n",
      "  1.68669216e-02  4.19250570e-02  1.26912684e-01 -2.51352783e-02\n",
      "  2.55592039e-02  4.88019130e-02  9.52369885e-02 -1.28715007e-02\n",
      " -6.42459220e-02 -1.00454339e-01  1.25209287e-02 -3.42227587e-03\n",
      "  1.17714769e-02 -7.36911006e-02  5.60549758e-02  1.58942662e-01\n",
      "  5.04341151e-02 -9.59024783e-03 -7.76920892e-03  4.06736779e-02\n",
      " -3.52667907e-02  8.83461162e-02  5.69672517e-02  3.88229058e-02] labels: 6\n"
     ]
    }
   ],
   "source": [
    "print(f'training data: {training_data[0]} labels: {training_labels[0]}')"
   ]
  },
  {
   "cell_type": "code",
   "execution_count": 3,
   "metadata": {},
   "outputs": [
    {
     "name": "stdout",
     "output_type": "stream",
     "text": [
      "Training dataset size: 40000\n",
      "Test dataset size: 10000\n"
     ]
    }
   ],
   "source": [
    "import torch\n",
    "from torch.utils.data import TensorDataset, random_split\n",
    "\n",
    "# Convert numpy arrays to torch tensors\n",
    "data_tensor = torch.tensor(training_data, dtype=torch.float64)\n",
    "labels_tensor = torch.tensor(training_labels, dtype=torch.uint8)\n",
    "\n",
    "# Create a TensorDataset\n",
    "dataset = TensorDataset(data_tensor, labels_tensor)\n",
    "\n",
    "# Calculate split lengths\n",
    "train_size = int(0.8 * len(dataset))\n",
    "test_size = len(dataset) - train_size\n",
    "\n",
    "# Split the dataset\n",
    "train_dataset, test_dataset = random_split(dataset, [train_size, test_size])\n",
    "\n",
    "print(f'Training dataset size: {len(train_dataset)}')\n",
    "print(f'Test dataset size: {len(test_dataset)}')"
   ]
  },
  {
   "cell_type": "code",
   "execution_count": 4,
   "metadata": {},
   "outputs": [
    {
     "name": "stdout",
     "output_type": "stream",
     "text": [
      "Number of training batches: 625\n",
      "Number of testing batches: 157\n"
     ]
    }
   ],
   "source": [
    "from torch.utils.data import DataLoader\n",
    "\n",
    "# Create dataloaders\n",
    "train_loader = DataLoader(train_dataset, batch_size=64, shuffle=True)\n",
    "test_loader = DataLoader(test_dataset, batch_size=64, shuffle=False)\n",
    "\n",
    "# Print the number of batches\n",
    "print(f'Number of training batches: {len(train_loader)}')\n",
    "print(f'Number of testing batches: {len(test_loader)}')"
   ]
  },
  {
   "cell_type": "code",
   "execution_count": 5,
   "metadata": {},
   "outputs": [],
   "source": [
    "import torch\n",
    "import torch.optim as optim\n",
    "from torch import nn \n",
    "class SimpleNN(nn.Module):\n",
    "    def __init__(self, input_size, hidden_size, output_size):\n",
    "        super(SimpleNN, self).__init__()\n",
    "        self.fc1 = nn.Linear(input_size, hidden_size)\n",
    "        self.relu = nn.ReLU()\n",
    "        self.fc2 = nn.Linear(hidden_size, output_size)\n",
    "        \n",
    "    def forward(self, x):\n",
    "        out = self.fc1(x)\n",
    "        out = self.relu(out)\n",
    "        out = self.fc2(out)\n",
    "        return out\n",
    "\n",
    "class BiggerNN(nn.Module):\n",
    "    def __init__(self, input_size, hidden_size, output_size):\n",
    "        super(BiggerNN, self).__init__()\n",
    "        self.fc1 = nn.Linear(input_size, hidden_size)\n",
    "        self.relu = nn.ReLU()\n",
    "        self.fc2 = nn.Linear(hidden_size, hidden_size)\n",
    "        self.fc3 = nn.Linear(hidden_size, hidden_size)\n",
    "        self.fc4 = nn.Linear(hidden_size, output_size)\n",
    "        self.dropout1 = nn.Dropout(p=0.2)  # Add dropout layer after first fully connected layer\n",
    "    def forward(self, x):\n",
    "        out = self.fc1(x)\n",
    "        out = self.relu(out)\n",
    "        out = self.dropout1(out)\n",
    "        out = self.fc2(out)\n",
    "        out = self.relu(out)\n",
    "        out = self.dropout1(out)\n",
    "        out = self.fc3(out)\n",
    "        out = self.relu(out)\n",
    "        out = self.fc4(out)\n",
    "        return out\n",
    "\n",
    "input_size = 300  \n",
    "hidden_size = 500  # Number of neurons in the hidden layer\n",
    "output_size = 10 \n",
    "# Instantiate the model, define the loss function and the optimizer\n",
    "# model = SimpleNN(input_size, hidden_size, output_size)\n",
    "model = BiggerNN(input_size, hidden_size, output_size)\n",
    "criterion = nn.CrossEntropyLoss()\n",
    "optimizer = optim.SGD(model.parameters(), lr=0.0002, momentum=0.95)\n",
    "#design a sweep from lr = 0.0002 to 0.0003\n"
   ]
  },
  {
   "cell_type": "code",
   "execution_count": 6,
   "metadata": {},
   "outputs": [
    {
     "name": "stdout",
     "output_type": "stream",
     "text": [
      "Learning rate: 0.0002\n",
      "Epoch [1/200], Train Loss: 2.2936, Test Loss: 2.2785\n",
      "Epoch [26/200], Train Loss: 0.2013, Test Loss: 0.1780\n",
      "Epoch [51/200], Train Loss: 0.1153, Test Loss: 0.1135\n",
      "Epoch [76/200], Train Loss: 0.0786, Test Loss: 0.0919\n",
      "Epoch [101/200], Train Loss: 0.0575, Test Loss: 0.0820\n",
      "Epoch [126/200], Train Loss: 0.0438, Test Loss: 0.0765\n",
      "Epoch [151/200], Train Loss: 0.0339, Test Loss: 0.0746\n",
      "Epoch [176/200], Train Loss: 0.0268, Test Loss: 0.0735\n",
      "early stop at epoch 200\n",
      "Learning rate: 0.00022\n",
      "Epoch [1/200], Train Loss: 2.2906, Test Loss: 2.2752\n",
      "Epoch [26/200], Train Loss: 0.1902, Test Loss: 0.1659\n",
      "Epoch [51/200], Train Loss: 0.1083, Test Loss: 0.1058\n",
      "Epoch [76/200], Train Loss: 0.0705, Test Loss: 0.0867\n",
      "Epoch [101/200], Train Loss: 0.0503, Test Loss: 0.0783\n",
      "Epoch [126/200], Train Loss: 0.0376, Test Loss: 0.0742\n",
      "Epoch [151/200], Train Loss: 0.0283, Test Loss: 0.0723\n",
      "early stop at epoch 160\n",
      "Learning rate: 0.00024\n",
      "Epoch [1/200], Train Loss: 2.2884, Test Loss: 2.2688\n",
      "Epoch [26/200], Train Loss: 0.1777, Test Loss: 0.1596\n",
      "Epoch [51/200], Train Loss: 0.1004, Test Loss: 0.1046\n",
      "Epoch [76/200], Train Loss: 0.0653, Test Loss: 0.0855\n",
      "Epoch [101/200], Train Loss: 0.0463, Test Loss: 0.0774\n",
      "Epoch [126/200], Train Loss: 0.0331, Test Loss: 0.0741\n",
      "early stop at epoch 131\n",
      "Learning rate: 0.00026\n",
      "Epoch [1/200], Train Loss: 2.2911, Test Loss: 2.2738\n",
      "Epoch [26/200], Train Loss: 0.1684, Test Loss: 0.1485\n",
      "Epoch [51/200], Train Loss: 0.0915, Test Loss: 0.0966\n",
      "Epoch [76/200], Train Loss: 0.0600, Test Loss: 0.0808\n",
      "Epoch [101/200], Train Loss: 0.0423, Test Loss: 0.0742\n",
      "Epoch [126/200], Train Loss: 0.0293, Test Loss: 0.0708\n",
      "early stop at epoch 140\n",
      "Learning rate: 0.00028\n",
      "Epoch [1/200], Train Loss: 2.2847, Test Loss: 2.2604\n",
      "Epoch [26/200], Train Loss: 0.1569, Test Loss: 0.1391\n",
      "Epoch [51/200], Train Loss: 0.0883, Test Loss: 0.0941\n",
      "Epoch [76/200], Train Loss: 0.0558, Test Loss: 0.0800\n",
      "Epoch [101/200], Train Loss: 0.0382, Test Loss: 0.0749\n",
      "early stop at epoch 115\n",
      "Learning rate: 0.0003\n",
      "Epoch [1/200], Train Loss: 2.2843, Test Loss: 2.2554\n",
      "Epoch [26/200], Train Loss: 0.1516, Test Loss: 0.1379\n",
      "Epoch [51/200], Train Loss: 0.0801, Test Loss: 0.0925\n",
      "Epoch [76/200], Train Loss: 0.0511, Test Loss: 0.0790\n",
      "Epoch [101/200], Train Loss: 0.0342, Test Loss: 0.0742\n",
      "Epoch [126/200], Train Loss: 0.0232, Test Loss: 0.0726\n",
      "early stop at epoch 130\n"
     ]
    }
   ],
   "source": [
    "best_loss_per_lr = []\n",
    "train_losses_per_lr = []\n",
    "test_losses_per_lr = []\n",
    "for lr in [0.0002, 0.00022, 0.00024, 0.00026, 0.00028, 0.0003]:\n",
    "    model = BiggerNN(input_size, hidden_size, output_size)\n",
    "    criterion = nn.CrossEntropyLoss()\n",
    "    optimizer = optim.SGD(model.parameters(), lr=lr, momentum=0.95)\n",
    "    print(f'Learning rate: {lr}')\n",
    "    # Training loop\n",
    "    num_epochs = 200\n",
    "    train_losses = []\n",
    "    test_losses = []\n",
    "    convergence_epoch = 0\n",
    "    best_test_loss = float('inf')\n",
    "    for epoch in range(num_epochs):\n",
    "        model.train()\n",
    "        train_loss = 0\n",
    "        for points, labels in train_loader:\n",
    "            points = points.float()\n",
    "            labels = labels.long()\n",
    "            # Forward pass\n",
    "            outputs = model(points)\n",
    "            loss = criterion(outputs, labels)\n",
    "            \n",
    "            # Backward and optimize\n",
    "            optimizer.zero_grad()\n",
    "            loss.backward()\n",
    "            optimizer.step()\n",
    "            \n",
    "            train_loss += loss.item()\n",
    "        \n",
    "        train_loss /= len(train_loader)\n",
    "        train_losses.append(train_loss)\n",
    "        \n",
    "        model.eval()\n",
    "        test_loss = 0\n",
    "        with torch.no_grad():\n",
    "            for points, labels in test_loader:\n",
    "                points = points.float()\n",
    "                labels = labels.long()\n",
    "                outputs = model(points)\n",
    "                loss = criterion(outputs, labels)\n",
    "                test_loss += loss.item()\n",
    "        \n",
    "        test_loss /= len(test_loader)\n",
    "        test_losses.append(test_loss)\n",
    "        \n",
    "        # Save the model if test loss improves\n",
    "        if test_loss < best_test_loss:\n",
    "            best_test_loss = test_loss\n",
    "            np.save('best_model.npy', model.state_dict())\n",
    "            # torch.save(model.state_dict(), 'best_model.pth')\n",
    "        if epoch > 50:\n",
    "            if convergence_epoch == 0 and best_test_loss < min(test_losses[-10:]):\n",
    "                print(f'early stop at epoch {epoch+1}')\n",
    "                convergence_epoch = epoch+1\n",
    "                break\n",
    "                \n",
    "        if(epoch % 25 == 0 or epoch == num_epochs-1):\n",
    "            print(f'Epoch [{epoch+1}/{num_epochs}], Train Loss: {train_loss:.4f}, Test Loss: {test_loss:.4f}')\n",
    "            if(epoch == num_epochs-1):\n",
    "                print(f'Best Test Loss: {best_test_loss:.4f}')\n",
    "                print(f'Convergence at epoch {convergence_epoch}')\n",
    "    del model, optimizer, criterion\n",
    "    best_loss_per_lr.append(best_test_loss)\n",
    "    train_losses_per_lr.append(train_losses)\n",
    "    test_losses_per_lr.append(test_losses)\n"
   ]
  },
  {
   "cell_type": "code",
   "execution_count": 7,
   "metadata": {},
   "outputs": [
    {
     "name": "stdout",
     "output_type": "stream",
     "text": [
      "lrs : [0.0002, 0.00022, 0.00024, 0.00026, 0.00028, 0.0003]\n",
      "Best Losses: [0.0724026508355709, 0.07215847869279088, 0.07411077175256767, 0.0703364084103993, 0.07398178027853797, 0.07193776828927954]\n"
     ]
    }
   ],
   "source": [
    "print(f'lrs : [0.0002, 0.00022, 0.00024, 0.00026, 0.00028, 0.0003]')\n",
    "print(f'Best Losses: {best_loss_per_lr}')"
   ]
  },
  {
   "cell_type": "code",
   "execution_count": 8,
   "metadata": {},
   "outputs": [
    {
     "ename": "ValueError",
     "evalue": "x and y must have same first dimension, but have shapes (200,) and (130,)",
     "output_type": "error",
     "traceback": [
      "\u001b[0;31m---------------------------------------------------------------------------\u001b[0m",
      "\u001b[0;31mValueError\u001b[0m                                Traceback (most recent call last)",
      "Cell \u001b[0;32mIn[8], line 3\u001b[0m\n\u001b[1;32m      1\u001b[0m \u001b[38;5;28;01mimport\u001b[39;00m \u001b[38;5;21;01mmatplotlib\u001b[39;00m\u001b[38;5;21;01m.\u001b[39;00m\u001b[38;5;21;01mpyplot\u001b[39;00m \u001b[38;5;28;01mas\u001b[39;00m \u001b[38;5;21;01mplt\u001b[39;00m\n\u001b[1;32m      2\u001b[0m \u001b[38;5;66;03m# Plot the training and testing error over the epochs\u001b[39;00m\n\u001b[0;32m----> 3\u001b[0m \u001b[43mplt\u001b[49m\u001b[38;5;241;43m.\u001b[39;49m\u001b[43mplot\u001b[49m\u001b[43m(\u001b[49m\u001b[38;5;28;43mrange\u001b[39;49m\u001b[43m(\u001b[49m\u001b[38;5;241;43m1\u001b[39;49m\u001b[43m,\u001b[49m\u001b[43m \u001b[49m\u001b[43mnum_epochs\u001b[49m\u001b[38;5;241;43m+\u001b[39;49m\u001b[38;5;241;43m1\u001b[39;49m\u001b[43m)\u001b[49m\u001b[43m,\u001b[49m\u001b[43m \u001b[49m\u001b[43mtrain_losses\u001b[49m\u001b[43m,\u001b[49m\u001b[43m \u001b[49m\u001b[43mlabel\u001b[49m\u001b[38;5;241;43m=\u001b[39;49m\u001b[38;5;124;43m'\u001b[39;49m\u001b[38;5;124;43mTrain Loss\u001b[39;49m\u001b[38;5;124;43m'\u001b[39;49m\u001b[43m)\u001b[49m\n\u001b[1;32m      4\u001b[0m plt\u001b[38;5;241m.\u001b[39mplot(\u001b[38;5;28mrange\u001b[39m(\u001b[38;5;241m1\u001b[39m, num_epochs\u001b[38;5;241m+\u001b[39m\u001b[38;5;241m1\u001b[39m), test_losses, label\u001b[38;5;241m=\u001b[39m\u001b[38;5;124m'\u001b[39m\u001b[38;5;124mTest Loss\u001b[39m\u001b[38;5;124m'\u001b[39m)\n\u001b[1;32m      5\u001b[0m plt\u001b[38;5;241m.\u001b[39mxlabel(\u001b[38;5;124m'\u001b[39m\u001b[38;5;124mEpoch\u001b[39m\u001b[38;5;124m'\u001b[39m)\n",
      "File \u001b[0;32m~/Documents/GitHub/code_notebooks/env/lib/python3.10/site-packages/matplotlib/pyplot.py:3794\u001b[0m, in \u001b[0;36mplot\u001b[0;34m(scalex, scaley, data, *args, **kwargs)\u001b[0m\n\u001b[1;32m   3786\u001b[0m \u001b[38;5;129m@_copy_docstring_and_deprecators\u001b[39m(Axes\u001b[38;5;241m.\u001b[39mplot)\n\u001b[1;32m   3787\u001b[0m \u001b[38;5;28;01mdef\u001b[39;00m \u001b[38;5;21mplot\u001b[39m(\n\u001b[1;32m   3788\u001b[0m     \u001b[38;5;241m*\u001b[39margs: \u001b[38;5;28mfloat\u001b[39m \u001b[38;5;241m|\u001b[39m ArrayLike \u001b[38;5;241m|\u001b[39m \u001b[38;5;28mstr\u001b[39m,\n\u001b[0;32m   (...)\u001b[0m\n\u001b[1;32m   3792\u001b[0m     \u001b[38;5;241m*\u001b[39m\u001b[38;5;241m*\u001b[39mkwargs,\n\u001b[1;32m   3793\u001b[0m ) \u001b[38;5;241m-\u001b[39m\u001b[38;5;241m>\u001b[39m \u001b[38;5;28mlist\u001b[39m[Line2D]:\n\u001b[0;32m-> 3794\u001b[0m     \u001b[38;5;28;01mreturn\u001b[39;00m \u001b[43mgca\u001b[49m\u001b[43m(\u001b[49m\u001b[43m)\u001b[49m\u001b[38;5;241;43m.\u001b[39;49m\u001b[43mplot\u001b[49m\u001b[43m(\u001b[49m\n\u001b[1;32m   3795\u001b[0m \u001b[43m        \u001b[49m\u001b[38;5;241;43m*\u001b[39;49m\u001b[43margs\u001b[49m\u001b[43m,\u001b[49m\n\u001b[1;32m   3796\u001b[0m \u001b[43m        \u001b[49m\u001b[43mscalex\u001b[49m\u001b[38;5;241;43m=\u001b[39;49m\u001b[43mscalex\u001b[49m\u001b[43m,\u001b[49m\n\u001b[1;32m   3797\u001b[0m \u001b[43m        \u001b[49m\u001b[43mscaley\u001b[49m\u001b[38;5;241;43m=\u001b[39;49m\u001b[43mscaley\u001b[49m\u001b[43m,\u001b[49m\n\u001b[1;32m   3798\u001b[0m \u001b[43m        \u001b[49m\u001b[38;5;241;43m*\u001b[39;49m\u001b[38;5;241;43m*\u001b[39;49m\u001b[43m(\u001b[49m\u001b[43m{\u001b[49m\u001b[38;5;124;43m\"\u001b[39;49m\u001b[38;5;124;43mdata\u001b[39;49m\u001b[38;5;124;43m\"\u001b[39;49m\u001b[43m:\u001b[49m\u001b[43m \u001b[49m\u001b[43mdata\u001b[49m\u001b[43m}\u001b[49m\u001b[43m \u001b[49m\u001b[38;5;28;43;01mif\u001b[39;49;00m\u001b[43m \u001b[49m\u001b[43mdata\u001b[49m\u001b[43m \u001b[49m\u001b[38;5;129;43;01mis\u001b[39;49;00m\u001b[43m \u001b[49m\u001b[38;5;129;43;01mnot\u001b[39;49;00m\u001b[43m \u001b[49m\u001b[38;5;28;43;01mNone\u001b[39;49;00m\u001b[43m \u001b[49m\u001b[38;5;28;43;01melse\u001b[39;49;00m\u001b[43m \u001b[49m\u001b[43m{\u001b[49m\u001b[43m}\u001b[49m\u001b[43m)\u001b[49m\u001b[43m,\u001b[49m\n\u001b[1;32m   3799\u001b[0m \u001b[43m        \u001b[49m\u001b[38;5;241;43m*\u001b[39;49m\u001b[38;5;241;43m*\u001b[39;49m\u001b[43mkwargs\u001b[49m\u001b[43m,\u001b[49m\n\u001b[1;32m   3800\u001b[0m \u001b[43m    \u001b[49m\u001b[43m)\u001b[49m\n",
      "File \u001b[0;32m~/Documents/GitHub/code_notebooks/env/lib/python3.10/site-packages/matplotlib/axes/_axes.py:1779\u001b[0m, in \u001b[0;36mAxes.plot\u001b[0;34m(self, scalex, scaley, data, *args, **kwargs)\u001b[0m\n\u001b[1;32m   1536\u001b[0m \u001b[38;5;250m\u001b[39m\u001b[38;5;124;03m\"\"\"\u001b[39;00m\n\u001b[1;32m   1537\u001b[0m \u001b[38;5;124;03mPlot y versus x as lines and/or markers.\u001b[39;00m\n\u001b[1;32m   1538\u001b[0m \n\u001b[0;32m   (...)\u001b[0m\n\u001b[1;32m   1776\u001b[0m \u001b[38;5;124;03m(``'green'``) or hex strings (``'#008000'``).\u001b[39;00m\n\u001b[1;32m   1777\u001b[0m \u001b[38;5;124;03m\"\"\"\u001b[39;00m\n\u001b[1;32m   1778\u001b[0m kwargs \u001b[38;5;241m=\u001b[39m cbook\u001b[38;5;241m.\u001b[39mnormalize_kwargs(kwargs, mlines\u001b[38;5;241m.\u001b[39mLine2D)\n\u001b[0;32m-> 1779\u001b[0m lines \u001b[38;5;241m=\u001b[39m [\u001b[38;5;241m*\u001b[39m\u001b[38;5;28mself\u001b[39m\u001b[38;5;241m.\u001b[39m_get_lines(\u001b[38;5;28mself\u001b[39m, \u001b[38;5;241m*\u001b[39margs, data\u001b[38;5;241m=\u001b[39mdata, \u001b[38;5;241m*\u001b[39m\u001b[38;5;241m*\u001b[39mkwargs)]\n\u001b[1;32m   1780\u001b[0m \u001b[38;5;28;01mfor\u001b[39;00m line \u001b[38;5;129;01min\u001b[39;00m lines:\n\u001b[1;32m   1781\u001b[0m     \u001b[38;5;28mself\u001b[39m\u001b[38;5;241m.\u001b[39madd_line(line)\n",
      "File \u001b[0;32m~/Documents/GitHub/code_notebooks/env/lib/python3.10/site-packages/matplotlib/axes/_base.py:296\u001b[0m, in \u001b[0;36m_process_plot_var_args.__call__\u001b[0;34m(self, axes, data, *args, **kwargs)\u001b[0m\n\u001b[1;32m    294\u001b[0m     this \u001b[38;5;241m+\u001b[39m\u001b[38;5;241m=\u001b[39m args[\u001b[38;5;241m0\u001b[39m],\n\u001b[1;32m    295\u001b[0m     args \u001b[38;5;241m=\u001b[39m args[\u001b[38;5;241m1\u001b[39m:]\n\u001b[0;32m--> 296\u001b[0m \u001b[38;5;28;01myield from\u001b[39;00m \u001b[38;5;28;43mself\u001b[39;49m\u001b[38;5;241;43m.\u001b[39;49m\u001b[43m_plot_args\u001b[49m\u001b[43m(\u001b[49m\n\u001b[1;32m    297\u001b[0m \u001b[43m    \u001b[49m\u001b[43maxes\u001b[49m\u001b[43m,\u001b[49m\u001b[43m \u001b[49m\u001b[43mthis\u001b[49m\u001b[43m,\u001b[49m\u001b[43m \u001b[49m\u001b[43mkwargs\u001b[49m\u001b[43m,\u001b[49m\u001b[43m \u001b[49m\u001b[43mambiguous_fmt_datakey\u001b[49m\u001b[38;5;241;43m=\u001b[39;49m\u001b[43mambiguous_fmt_datakey\u001b[49m\u001b[43m)\u001b[49m\n",
      "File \u001b[0;32m~/Documents/GitHub/code_notebooks/env/lib/python3.10/site-packages/matplotlib/axes/_base.py:486\u001b[0m, in \u001b[0;36m_process_plot_var_args._plot_args\u001b[0;34m(self, axes, tup, kwargs, return_kwargs, ambiguous_fmt_datakey)\u001b[0m\n\u001b[1;32m    483\u001b[0m     axes\u001b[38;5;241m.\u001b[39myaxis\u001b[38;5;241m.\u001b[39mupdate_units(y)\n\u001b[1;32m    485\u001b[0m \u001b[38;5;28;01mif\u001b[39;00m x\u001b[38;5;241m.\u001b[39mshape[\u001b[38;5;241m0\u001b[39m] \u001b[38;5;241m!=\u001b[39m y\u001b[38;5;241m.\u001b[39mshape[\u001b[38;5;241m0\u001b[39m]:\n\u001b[0;32m--> 486\u001b[0m     \u001b[38;5;28;01mraise\u001b[39;00m \u001b[38;5;167;01mValueError\u001b[39;00m(\u001b[38;5;124mf\u001b[39m\u001b[38;5;124m\"\u001b[39m\u001b[38;5;124mx and y must have same first dimension, but \u001b[39m\u001b[38;5;124m\"\u001b[39m\n\u001b[1;32m    487\u001b[0m                      \u001b[38;5;124mf\u001b[39m\u001b[38;5;124m\"\u001b[39m\u001b[38;5;124mhave shapes \u001b[39m\u001b[38;5;132;01m{\u001b[39;00mx\u001b[38;5;241m.\u001b[39mshape\u001b[38;5;132;01m}\u001b[39;00m\u001b[38;5;124m and \u001b[39m\u001b[38;5;132;01m{\u001b[39;00my\u001b[38;5;241m.\u001b[39mshape\u001b[38;5;132;01m}\u001b[39;00m\u001b[38;5;124m\"\u001b[39m)\n\u001b[1;32m    488\u001b[0m \u001b[38;5;28;01mif\u001b[39;00m x\u001b[38;5;241m.\u001b[39mndim \u001b[38;5;241m>\u001b[39m \u001b[38;5;241m2\u001b[39m \u001b[38;5;129;01mor\u001b[39;00m y\u001b[38;5;241m.\u001b[39mndim \u001b[38;5;241m>\u001b[39m \u001b[38;5;241m2\u001b[39m:\n\u001b[1;32m    489\u001b[0m     \u001b[38;5;28;01mraise\u001b[39;00m \u001b[38;5;167;01mValueError\u001b[39;00m(\u001b[38;5;124mf\u001b[39m\u001b[38;5;124m\"\u001b[39m\u001b[38;5;124mx and y can be no greater than 2D, but have \u001b[39m\u001b[38;5;124m\"\u001b[39m\n\u001b[1;32m    490\u001b[0m                      \u001b[38;5;124mf\u001b[39m\u001b[38;5;124m\"\u001b[39m\u001b[38;5;124mshapes \u001b[39m\u001b[38;5;132;01m{\u001b[39;00mx\u001b[38;5;241m.\u001b[39mshape\u001b[38;5;132;01m}\u001b[39;00m\u001b[38;5;124m and \u001b[39m\u001b[38;5;132;01m{\u001b[39;00my\u001b[38;5;241m.\u001b[39mshape\u001b[38;5;132;01m}\u001b[39;00m\u001b[38;5;124m\"\u001b[39m)\n",
      "\u001b[0;31mValueError\u001b[0m: x and y must have same first dimension, but have shapes (200,) and (130,)"
     ]
    },
    {
     "data": {
      "image/png": "[encoded data removed]",
      "text/plain": [
       "<Figure size 640x480 with 1 Axes>"
      ]
     },
     "metadata": {},
     "output_type": "display_data"
    }
   ],
   "source": [
    "import matplotlib.pyplot as plt\n",
    "# Plot the training and testing error over the epochs\n",
    "plt.plot(range(1, num_epochs+1), train_losses, label='Train Loss')\n",
    "plt.plot(range(1, num_epochs+1), test_losses, label='Test Loss')\n",
    "plt.xlabel('Epoch')\n",
    "plt.ylabel('Loss')\n",
    "plt.title('Training and Testing Loss Over Epochs')\n",
    "plt.legend()\n",
    "plt.show()"
   ]
  },
  {
   "cell_type": "code",
   "execution_count": null,
   "metadata": {},
   "outputs": [],
   "source": []
  }
 ],
 "metadata": {
  "kernelspec": {
   "display_name": "Python 3 (ipykernel)",
   "language": "python",
   "name": "python3"
  },
  "language_info": {
   "codemirror_mode": {
    "name": "ipython",
    "version": 3
   },
   "file_extension": ".py",
   "mimetype": "text/x-python",
   "name": "python",
   "nbconvert_exporter": "python",
   "pygments_lexer": "ipython3",
   "version": "3.10.12"
  }
 },
 "nbformat": 4,
 "nbformat_minor": 2
}
