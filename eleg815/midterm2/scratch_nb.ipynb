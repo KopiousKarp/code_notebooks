{
 "cells": [
  {
   "cell_type": "markdown",
   "metadata": {},
   "source": [
    "# Notes and scratch code for midterm 2\n",
    "J. Cristiano"
   ]
  },
  {
   "cell_type": "code",
   "execution_count": 1,
   "metadata": {},
   "outputs": [
    {
     "name": "stdout",
     "output_type": "stream",
     "text": [
      "data: (50000, 300) labels: (50000,)\n",
      "data type: float64 labels type: uint8\n"
     ]
    }
   ],
   "source": [
    "#Take a peak at the data\n",
    "\n",
    "import numpy as np\n",
    "training_data = np.load('eleg815/midterm2/midterm2_training_data.npy')\n",
    "training_labels = np.load('eleg815/midterm2/midterm2_training_labels.npy')\n",
    "\n",
    "print(f'data: {training_data.shape} labels: {training_labels.shape}')\n",
    "print(f'data type: {training_data.dtype} labels type: {training_labels.dtype}')"
   ]
  },
  {
   "cell_type": "code",
   "execution_count": 7,
   "metadata": {},
   "outputs": [
    {
     "name": "stdout",
     "output_type": "stream",
     "text": [
      "training data: [-9.74252683e-01 -1.80990285e+00  1.52850438e+00  5.24357702e-01\n",
      "  1.81118576e+00 -2.87250484e+00  4.76424409e-01  1.39349414e+00\n",
      "  1.71206883e+00  1.03710195e+00  4.84331507e-01  1.00171077e+00\n",
      "  4.09124392e-01  4.16235592e-01  1.57464576e+00  3.48824604e-01\n",
      "  1.81042205e+00 -3.35860496e-01  6.06989358e-01  3.21004229e-02\n",
      "  8.13890571e-02  1.82834264e-01 -4.37875922e-01 -4.25384013e-01\n",
      "  3.76413365e-01  1.11223462e-01  5.83066177e-01 -3.23374796e-02\n",
      "  9.68774874e-01  1.08183095e+00  5.21809792e-01 -4.76276697e-01\n",
      "  3.50855831e-01  5.03171899e-01 -5.24402044e-01 -7.18521809e-01\n",
      "  1.35311692e-02 -2.65223276e-01 -4.05434163e-01 -5.22130228e-01\n",
      " -2.87794696e-01 -9.35783365e-01 -2.07833190e-01 -1.33523865e-01\n",
      "  3.85584315e-01 -4.04030065e-01 -3.24807129e-01  5.46231311e-01\n",
      "  1.46899513e-01 -2.20359769e-01 -1.95782646e-01 -4.57705729e-01\n",
      " -3.37845833e-01  5.98692475e-02  2.16760747e-01 -1.32838348e-02\n",
      " -2.28737747e-01  9.13408510e-02 -3.28914642e-01 -4.01929690e-01\n",
      "  1.75215650e-01  1.05015121e-01  3.88477981e-01  5.03545304e-01\n",
      "  1.42745522e-01  4.82807973e-01  2.61575226e-01 -3.38606688e-01\n",
      "  2.55185493e-02 -3.60912156e-01  2.22360288e-01 -2.79431788e-01\n",
      "  2.33208585e-01 -2.23840802e-01 -2.37414922e-01 -4.24738859e-01\n",
      " -1.94470764e-01  1.83536533e-01 -1.82144158e-01 -2.96447943e-01\n",
      "  1.70747559e-01  6.70202059e-02 -5.08790604e-02  4.34646083e-02\n",
      "  3.15691866e-01  1.22819072e-01  1.76746293e-01 -3.42392671e-01\n",
      " -2.17963799e-01 -7.61049602e-02 -7.15875836e-03  7.13643384e-02\n",
      "  6.49520829e-02  9.40150314e-02 -1.31338166e-01 -1.04061217e-01\n",
      "  4.68038950e-03  1.51607994e-01 -1.00178437e-01 -2.33193619e-02\n",
      "  1.48815157e-01 -1.14104790e-01  1.75616367e-02 -9.19035773e-02\n",
      " -2.29516527e-01  1.57116462e-01  9.73649647e-02 -5.46005574e-02\n",
      "  1.88705841e-01 -3.92794245e-01  9.14763802e-02 -1.95893571e-01\n",
      " -3.16993938e-03  5.55058991e-02  1.95690625e-02  7.47299582e-02\n",
      " -2.35881122e-01  8.61093720e-03  9.07322325e-03 -1.23011656e-01\n",
      " -6.95649774e-02  3.10668068e-01  7.60462556e-02 -4.84345206e-02\n",
      "  1.49177427e-01  7.15543936e-02 -1.55576155e-01 -1.24030352e-02\n",
      "  2.19408849e-01 -1.05366616e-01 -1.64071932e-01 -9.04419818e-02\n",
      " -1.48316687e-01  2.54824111e-01  2.00269088e-01  1.56464905e-01\n",
      "  7.78525254e-02 -1.37745852e-02  2.19727824e-02 -1.88077513e-01\n",
      "  2.21196398e-01 -3.84571914e-02 -1.40252851e-03  6.57210564e-02\n",
      "  2.13447258e-01  1.96655758e-01 -8.28754922e-02 -1.94995859e-01\n",
      " -6.55701524e-02 -7.57753356e-03  5.18775176e-02  4.84878379e-02\n",
      "  7.10121897e-02 -1.11084949e-01  1.52826935e-01  6.81733607e-02\n",
      "  1.00040347e-01 -1.33522838e-01  9.47957316e-02 -7.88444345e-02\n",
      " -1.54372521e-01 -1.35943185e-01  6.35183788e-02 -1.39597606e-01\n",
      "  2.50488920e-01 -1.56029753e-01  8.68455473e-02 -3.12287849e-02\n",
      "  8.71728488e-02 -2.77772821e-02 -3.16492582e-02  9.13592813e-02\n",
      " -8.39146985e-02  2.96026280e-02 -1.07419913e-02  4.01528541e-02\n",
      "  6.27988190e-02  2.02345143e-01  3.13032032e-02  1.05493931e-01\n",
      "  9.33148927e-02  9.70723540e-02  2.33413749e-03 -1.45025571e-02\n",
      "  3.98351637e-02 -4.78095990e-02 -1.49570848e-02 -1.04267910e-01\n",
      " -2.66545013e-02 -7.29675684e-02 -1.06251158e-01 -1.17184260e-01\n",
      " -1.43595950e-01  9.13037140e-02 -8.91959775e-02 -6.34317107e-02\n",
      "  1.15051206e-01  1.11795188e-01 -3.95082285e-02 -1.44471578e-02\n",
      " -1.24882959e-01  2.10456766e-02  6.02375185e-02  1.24383053e-01\n",
      "  1.37186138e-02  5.27454112e-02 -6.10517042e-02 -5.40266168e-02\n",
      " -1.10715380e-01 -2.58914275e-02 -5.46580158e-02  1.17983547e-02\n",
      " -7.81954445e-02  2.21283678e-01 -2.03381753e-01  8.36180669e-03\n",
      " -7.40769472e-02  7.43538236e-02 -6.70821799e-02 -2.43074557e-02\n",
      " -1.57849038e-01 -5.57604396e-02 -1.76210884e-03  8.74346634e-02\n",
      " -5.80167326e-02 -1.27132711e-01 -6.49153331e-02  4.58568106e-02\n",
      " -5.79775249e-02  1.34655427e-01  3.16370286e-02  3.11581795e-02\n",
      "  2.46570055e-02 -1.23790061e-01 -7.78062661e-02 -2.82863460e-02\n",
      " -9.20435898e-02 -8.18823543e-02  1.21485835e-01 -1.16747685e-01\n",
      " -9.64509145e-03  2.94659723e-02  2.02522089e-01  1.01676936e-01\n",
      "  2.50985191e-02 -1.20987629e-01  1.84203482e-02 -1.69502134e-01\n",
      "  5.50077449e-02  1.32483067e-01  1.88540702e-02  8.50469044e-02\n",
      " -3.02841068e-02  8.23817419e-02 -1.34321509e-01 -4.09882016e-02\n",
      " -6.40676516e-02 -4.12237101e-02 -5.11220817e-02  6.80826366e-02\n",
      "  8.23180802e-02  1.05690123e-01 -4.61561674e-02  1.75440404e-02\n",
      "  7.88233085e-02  1.03350755e-01 -1.21462732e-01 -1.15270329e-01\n",
      " -4.44459044e-02  6.01562702e-02  1.18701760e-01  5.61088976e-02\n",
      "  3.25411861e-02 -1.28238641e-01 -8.11151366e-02  7.97925477e-02\n",
      "  1.68669216e-02  4.19250570e-02  1.26912684e-01 -2.51352783e-02\n",
      "  2.55592039e-02  4.88019130e-02  9.52369885e-02 -1.28715007e-02\n",
      " -6.42459220e-02 -1.00454339e-01  1.25209287e-02 -3.42227587e-03\n",
      "  1.17714769e-02 -7.36911006e-02  5.60549758e-02  1.58942662e-01\n",
      "  5.04341151e-02 -9.59024783e-03 -7.76920892e-03  4.06736779e-02\n",
      " -3.52667907e-02  8.83461162e-02  5.69672517e-02  3.88229058e-02] labels: 6\n"
     ]
    }
   ],
   "source": [
    "print(f'training data: {training_data[0]} labels: {training_labels[0]}')"
   ]
  },
  {
   "cell_type": "code",
   "execution_count": 2,
   "metadata": {},
   "outputs": [
    {
     "name": "stdout",
     "output_type": "stream",
     "text": [
      "Training dataset size: 40000\n",
      "Test dataset size: 10000\n"
     ]
    }
   ],
   "source": [
    "import torch\n",
    "from torch.utils.data import TensorDataset, random_split\n",
    "\n",
    "# Convert numpy arrays to torch tensors\n",
    "data_tensor = torch.tensor(training_data, dtype=torch.float64)\n",
    "labels_tensor = torch.tensor(training_labels, dtype=torch.uint8)\n",
    "\n",
    "# Create a TensorDataset\n",
    "dataset = TensorDataset(data_tensor, labels_tensor)\n",
    "\n",
    "# Calculate split lengths\n",
    "train_size = int(0.8 * len(dataset))\n",
    "test_size = len(dataset) - train_size\n",
    "\n",
    "# Split the dataset\n",
    "train_dataset, test_dataset = random_split(dataset, [train_size, test_size])\n",
    "\n",
    "print(f'Training dataset size: {len(train_dataset)}')\n",
    "print(f'Test dataset size: {len(test_dataset)}')"
   ]
  },
  {
   "cell_type": "code",
   "execution_count": 3,
   "metadata": {},
   "outputs": [
    {
     "name": "stdout",
     "output_type": "stream",
     "text": [
      "Number of training batches: 625\n",
      "Number of testing batches: 157\n"
     ]
    }
   ],
   "source": [
    "from torch.utils.data import DataLoader\n",
    "\n",
    "# Create dataloaders\n",
    "train_loader = DataLoader(train_dataset, batch_size=64, shuffle=True)\n",
    "test_loader = DataLoader(test_dataset, batch_size=64, shuffle=False)\n",
    "\n",
    "# Print the number of batches\n",
    "print(f'Number of training batches: {len(train_loader)}')\n",
    "print(f'Number of testing batches: {len(test_loader)}')"
   ]
  },
  {
   "cell_type": "code",
   "execution_count": 4,
   "metadata": {},
   "outputs": [],
   "source": [
    "import torch\n",
    "import torch.optim as optim\n",
    "from torch import nn \n",
    "class SimpleNN(nn.Module):\n",
    "    def __init__(self, input_size, hidden_size, output_size):\n",
    "        super(SimpleNN, self).__init__()\n",
    "        self.fc1 = nn.Linear(input_size, hidden_size)\n",
    "        self.relu = nn.ReLU()\n",
    "        self.fc2 = nn.Linear(hidden_size, output_size)\n",
    "        \n",
    "    def forward(self, x):\n",
    "        out = self.fc1(x)\n",
    "        out = self.relu(out)\n",
    "        out = self.fc2(out)\n",
    "        return out\n",
    "\n",
    "class BiggerNN(nn.Module):\n",
    "    def __init__(self, input_size, hidden_size, output_size):\n",
    "        super(BiggerNN, self).__init__()\n",
    "        self.fc1 = nn.Linear(input_size, hidden_size)\n",
    "        self.relu = nn.ReLU()\n",
    "        self.fc2 = nn.Linear(hidden_size, hidden_size)\n",
    "        self.fc3 = nn.Linear(hidden_size, hidden_size)\n",
    "        self.fc4 = nn.Linear(hidden_size, output_size)\n",
    "        self.dropout1 = nn.Dropout(p=0.2)  # Add dropout layer after first fully connected layer\n",
    "    def forward(self, x):\n",
    "        out = self.fc1(x)\n",
    "        out = self.relu(out)\n",
    "        out = self.dropout1(out)\n",
    "        out = self.fc2(out)\n",
    "        out = self.relu(out)\n",
    "        out = self.dropout1(out)\n",
    "        out = self.fc3(out)\n",
    "        out = self.relu(out)\n",
    "        out = self.fc4(out)\n",
    "        return out\n",
    "\n",
    "input_size = 300  \n",
    "hidden_size = 500  # Number of neurons in the hidden layer\n",
    "output_size = 10 \n",
    "# Instantiate the model, define the loss function and the optimizer\n",
    "model = SimpleNN(input_size, hidden_size, output_size)\n",
    "# model = BiggerNN(input_size, hidden_size, output_size)\n",
    "criterion = nn.CrossEntropyLoss()\n",
    "optimizer = optim.SGD(model.parameters(), lr=0.0002, momentum=0.95)\n",
    "#design a sweep from lr = 0.0002 to 0.0003\n"
   ]
  },
  {
   "cell_type": "code",
   "execution_count": 5,
   "metadata": {},
   "outputs": [
    {
     "name": "stdout",
     "output_type": "stream",
     "text": [
      "Epoch [1/200], Train Loss: 2.0021, Test Loss: 1.6610\n",
      "Epoch [26/200], Train Loss: 0.2453, Test Loss: 0.2553\n",
      "Epoch [51/200], Train Loss: 0.1752, Test Loss: 0.1942\n",
      "Epoch [76/200], Train Loss: 0.1375, Test Loss: 0.1624\n",
      "Epoch [101/200], Train Loss: 0.1128, Test Loss: 0.1426\n",
      "Epoch [126/200], Train Loss: 0.0950, Test Loss: 0.1290\n",
      "Epoch [151/200], Train Loss: 0.0815, Test Loss: 0.1192\n",
      "Epoch [176/200], Train Loss: 0.0709, Test Loss: 0.1117\n",
      "Epoch [200/200], Train Loss: 0.0625, Test Loss: 0.1061\n",
      "Best Test Loss: 0.1061\n",
      "Convergence at epoch 0\n"
     ]
    }
   ],
   "source": [
    "# for lr in [0.0002, 0.00025, 0.0003]:\n",
    "#     model = SimpleNN(input_size, hidden_size, output_size)\n",
    "#     criterion = nn.CrossEntropyLoss()\n",
    "#     optimizer = optim.SGD(model.parameters(), lr=lr, momentum=0.95)\n",
    "#     print(f'Learning rate: {lr}')\n",
    "#     # Training loop\n",
    "#     num_epochs = 200\n",
    "#     train_losses = []\n",
    "#     test_losses = []\n",
    "#     convergence_epoch = 0\n",
    "#     best_test_loss = float('inf')\n",
    " \n",
    "# Training loop\n",
    "num_epochs = 200\n",
    "train_losses = []\n",
    "test_losses = []\n",
    "convergence_epoch = 0\n",
    "best_test_loss = float('inf')\n",
    "for epoch in range(num_epochs):\n",
    "    model.train()\n",
    "    train_loss = 0\n",
    "    for points, labels in train_loader:\n",
    "        points = points.float()\n",
    "        labels = labels.long()\n",
    "        # Forward pass\n",
    "        outputs = model(points)\n",
    "        loss = criterion(outputs, labels)\n",
    "        \n",
    "        # Backward and optimize\n",
    "        optimizer.zero_grad()\n",
    "        loss.backward()\n",
    "        optimizer.step()\n",
    "        \n",
    "        train_loss += loss.item()\n",
    "    \n",
    "    train_loss /= len(train_loader)\n",
    "    train_losses.append(train_loss)\n",
    "    \n",
    "    model.eval()\n",
    "    test_loss = 0\n",
    "    with torch.no_grad():\n",
    "        for points, labels in test_loader:\n",
    "            points = points.float()\n",
    "            labels = labels.long()\n",
    "            outputs = model(points)\n",
    "            loss = criterion(outputs, labels)\n",
    "            test_loss += loss.item()\n",
    "    \n",
    "    test_loss /= len(test_loader)\n",
    "    test_losses.append(test_loss)\n",
    "    \n",
    "    # Save the model if test loss improves\n",
    "    if test_loss < best_test_loss:\n",
    "        best_test_loss = test_loss\n",
    "        torch.save(model.state_dict(), 'best_model.pth')\n",
    "    if epoch > 10:\n",
    "        if convergence_epoch == 0 and best_test_loss < min(test_losses[-10:]):\n",
    "            # print(f'Convergence at epoch {epoch+1}')\n",
    "            convergence_epoch = epoch+1\n",
    "            \n",
    "    if(epoch % 25 == 0 or epoch == num_epochs-1):\n",
    "        print(f'Epoch [{epoch+1}/{num_epochs}], Train Loss: {train_loss:.4f}, Test Loss: {test_loss:.4f}')\n",
    "        if(epoch == num_epochs-1):\n",
    "            print(f'Best Test Loss: {best_test_loss:.4f}')\n",
    "            print(f'Convergence at epoch {convergence_epoch}')"
   ]
  },
  {
   "cell_type": "code",
   "execution_count": 6,
   "metadata": {},
   "outputs": [
    {
     "data": {
      "image/png": "[encoded data removed]",
      "text/plain": [
       "<Figure size 640x480 with 1 Axes>"
      ]
     },
     "metadata": {},
     "output_type": "display_data"
    }
   ],
   "source": [
    "import matplotlib.pyplot as plt\n",
    "# Plot the training and testing error over the epochs\n",
    "plt.plot(range(1, num_epochs+1), train_losses, label='Train Loss')\n",
    "plt.plot(range(1, num_epochs+1), test_losses, label='Test Loss')\n",
    "plt.xlabel('Epoch')\n",
    "plt.ylabel('Loss')\n",
    "plt.title('Training and Testing Loss Over Epochs')\n",
    "plt.legend()\n",
    "plt.show()"
   ]
  },
  {
   "cell_type": "code",
   "execution_count": null,
   "metadata": {},
   "outputs": [],
   "source": []
  }
 ],
 "metadata": {
  "kernelspec": {
   "display_name": "Python 3 (ipykernel)",
   "language": "python",
   "name": "python3"
  },
  "language_info": {
   "codemirror_mode": {
    "name": "ipython",
    "version": 3
   },
   "file_extension": ".py",
   "mimetype": "text/x-python",
   "name": "python",
   "nbconvert_exporter": "python",
   "pygments_lexer": "ipython3",
   "version": "3.10.12"
  }
 },
 "nbformat": 4,
 "nbformat_minor": 2
}
