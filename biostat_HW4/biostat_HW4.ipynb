{
 "cells": [
  {
   "cell_type": "markdown",
   "metadata": {},
   "source": [
    "# Biostat HW 4\n",
    "J. Cristiano        \n",
    "10/20/2024\n",
    "\n",
    "### Question #1\n",
    "An experiment was conducted at the University of California–Berkeley to study the psychological environment e¤ect on the anatomy of the brain. A group of 19 rats was randomly divided into two groups. Twelve animals in the treatment group lived together in a large cage, furnished with playthings that were changed daily, while animals in the control group lived in isolation with no toys. After a month the experimental animals were killed and dissected. Table Q1 gives the cortex weights (the thinking part of the brain) in milligrams. Use the two-sample t test to compare the means of the two groups and draw appropriate conclusions. State clearly your null and alternative hypotheses and choice of test size (significant level) and p-value.\n"
   ]
  },
  {
   "cell_type": "code",
   "execution_count": 9,
   "metadata": {},
   "outputs": [
    {
     "name": "stdout",
     "output_type": "stream",
     "text": [
      "{'Treatment': [707, 740, 745, 652, 649, 676, 699, 696, 712, 708, 749, 690], 'Control': [669, 650, 651, 627, 656, 642, 698]}\n"
     ]
    }
   ],
   "source": [
    "# Data from the table\n",
    "data = {\n",
    "    'Treatment': [707, 740, 745, 652, 649, 676, 699, 696, 712, 708, 749, 690],\n",
    "    'Control': [669, 650, 651, 627, 656, 642, 698]\n",
    "}\n",
    "print(data)"
   ]
  },
  {
   "cell_type": "markdown",
   "metadata": {},
   "source": [
    "Null and Alternative Hypotheses:\n",
    "\n",
    "    Null hypothesis (H₀): The mean cortex weights of the treatment and control groups are equal, i.e., there is no significant difference in brain anatomy between the two groups.\n",
    "    \n",
    "    \n",
    "    Alternative hypothesis (H₁): The mean cortex weights of the treatment group are different from the control group."
   ]
  },
  {
   "cell_type": "code",
   "execution_count": 2,
   "metadata": {},
   "outputs": [
    {
     "name": "stdout",
     "output_type": "stream",
     "text": [
      "T-statistic: 3.254478363839462\n",
      "P-value: 0.004666592484630866\n",
      "Reject the null hypothesis: There is a significant difference in cortex weights between the two groups.\n"
     ]
    }
   ],
   "source": [
    "from scipy import stats\n",
    "# Perform two-sample t-test (equal variance assumed)\n",
    "t_stat, p_value = stats.ttest_ind(data['Treatment'], data['Control'], equal_var=True)\n",
    "# Display the t-statistic and p-value\n",
    "print(f\"T-statistic: {t_stat}\")\n",
    "print(f\"P-value: {p_value}\")\n",
    "# Significance level\n",
    "alpha = 0.05\n",
    "# Conclusion\n",
    "if p_value < alpha:\n",
    "    print(\"Reject the null hypothesis: There is a significant difference in cortex weights between the two groups.\")\n",
    "else:\n",
    "    print(\"Fail to reject the null hypothesis: There is no significant difference in cortex weights between the two groups.\")"
   ]
  },
  {
   "cell_type": "markdown",
   "metadata": {},
   "source": [
    "### Question #2 \n",
    "The following data are taken from a study that compares adolescents who have bulimia to healthy adolescents with similar body compositions and levels of physical activity. Table Q2 provides measures of daily caloric intake (kcal/kg) for random samples of 23 bulimic adolescents and 15 healthy ones. Use the Wilcoxon test to compare the two populations.  State clearly your null and alternative hypotheses and choice of test size (significant level) and p-value.\n",
    "\n",
    "Null and Alternative Hypotheses:\n",
    "\n",
    "    Null hypothesis (H₀): The daily caloric intake of bulimic adolescents is equal to that of healthy adolescents.\n",
    "    \n",
    "    Alternative hypothesis (H₁): The daily caloric intake of bulimic adolescents is different from that of healthy adolescents."
   ]
  },
  {
   "cell_type": "code",
   "execution_count": 8,
   "metadata": {},
   "outputs": [],
   "source": [
    "# Data from Table Q2\n",
    "bulimic_data = [15.9, 16.0, 16.5, 18.9, 18.4, 18.1, 30.9, 29.2, 17.0, 17.6, 28.7, 28.0, 25.6, 25.2, 25.1, 24.5, 18.9, 19.6, 21.5, 24.1, 23.6, 22.9, 21.6]\n",
    "healthy_data = [30.6, 25.7, 25.3, 24.5, 20.7, 22.4, 23.1, 23.8, 40.8, 37.4, 37.1, 30.6, 33.2, 33.7, 36.6]\n",
    "print(\"Bulimic Data:\", bulimic_data)\n",
    "print(\"Healthy Data:\", healthy_data)"
   ]
  },
  {
   "cell_type": "code",
   "execution_count": 4,
   "metadata": {},
   "outputs": [
    {
     "name": "stdout",
     "output_type": "stream",
     "text": [
      "Test Statistic: 61.5\n",
      "P-value: 0.0009650590174532402\n",
      "Reject the null hypothesis: There is a significant difference in daily caloric intake between bulimic and healthy adolescents.\n"
     ]
    }
   ],
   "source": [
    "# Perform Wilcoxon rank-sum test (Mann-Whitney U test)\n",
    "stat, p_value = stats.mannwhitneyu(bulimic_data, healthy_data, alternative='two-sided')\n",
    "# Display the test statistic and p-value\n",
    "print(f\"Test Statistic: {stat}\")\n",
    "print(f\"P-value: {p_value}\")\n",
    "# Conclusion\n",
    "if p_value < alpha:\n",
    "    print(\"Reject the null hypothesis: There is a significant difference in daily caloric intake between bulimic and healthy adolescents.\")\n",
    "else:\n",
    "    print(\"Fail to reject the null hypothesis: There is no significant difference in daily caloric intake between bulimic and healthy adolescents.\")\n"
   ]
  },
  {
   "cell_type": "markdown",
   "metadata": {},
   "source": [
    "### Question #3\n",
    "Consider the data taken from a study that attempts to determine whether the use of electronic fetal monitoring (EFM) during labor\n",
    "a¤ects the frequency of cesarean section deliveries. Of the 5824 infants included in the study, 2850 were monitored electronically and 2974 were\n",
    "not. The outcomes are shown in Table Q3. Test to compare the rates of cesarean section delivery, EFM-exposed versus nonexposed; state\n",
    "clearly your null and alternative hypotheses and choice of test size (significant level) and p-value.\n",
    "\n",
    "Null and Alternative Hypotheses:\n",
    "\n",
    "    Null hypothesis (H₀): There is no significant association between EFM exposure and cesarean delivery rates.\n",
    "    \n",
    "    Alternative hypothesis (H₁): There is a significant association between EFM exposure and cesarean delivery rates.\n"
   ]
  },
  {
   "cell_type": "code",
   "execution_count": 5,
   "metadata": {},
   "outputs": [
    {
     "name": "stdout",
     "output_type": "stream",
     "text": [
      "                       EFM Exposure Yes  EFM Exposure No\n",
      "Cesarean Delivery Yes               358              229\n",
      "Cesarean Delivery No               2492             2745\n",
      "\n",
      "\n",
      "Chi-square Statistic: 37.414290910867436\n",
      "Degrees of Freedom: 1\n",
      "P-value: 9.55196454711465e-10\n",
      "Expected Frequencies: \n",
      "[[ 287.25103022  299.74896978]\n",
      " [2562.74896978 2674.25103022]]\n",
      "Reject the null hypothesis: There is a significant association between EFM exposure and cesarean delivery rates.\n"
     ]
    }
   ],
   "source": [
    "import pandas as pd\n",
    "# Data from Table Q3\n",
    "data = [[358, 229], [2492, 2745]]\n",
    "# Create a DataFrame\n",
    "df = pd.DataFrame(data, columns=['EFM Exposure Yes', 'EFM Exposure No'], index=['Cesarean Delivery Yes', 'Cesarean Delivery No'])\n",
    "print(df)\n",
    "print(\"\\n\")\n",
    "# Perform Chi-square test of independence\n",
    "chi2_stat, p_value, dof, expected = stats.chi2_contingency(df)\n",
    "# Display the chi-square statistic, degrees of freedom, and p-value\n",
    "print(f\"Chi-square Statistic: {chi2_stat}\")\n",
    "print(f\"Degrees of Freedom: {dof}\")\n",
    "print(f\"P-value: {p_value}\")\n",
    "print(f\"Expected Frequencies: \\n{expected}\")\n",
    "# Conclusion\n",
    "if p_value < alpha:\n",
    "    print(\"Reject the null hypothesis: There is a significant association between EFM exposure and cesarean delivery rates.\")\n",
    "else:\n",
    "    print(\"Fail to reject the null hypothesis: There is no significant association between EFM exposure and cesarean delivery rates.\")\n"
   ]
  },
  {
   "cell_type": "markdown",
   "metadata": {},
   "source": [
    "### Question #4 \n",
    "In an experiment on the effect of a growth regulator on fruit setting in muskmelon the following results were obtained in Table Q4. Test whether the fruit setting in muskmelon and the application of growth regulator are independent? State clearly your null and alternative hypotheses and choice of test size (significant level) and p-value."
   ]
  },
  {
   "cell_type": "code",
   "execution_count": 6,
   "metadata": {},
   "outputs": [
    {
     "name": "stdout",
     "output_type": "stream",
     "text": [
      "            Fruit set  Fruit not set  Total\n",
      "0  Treated         16              9     25\n",
      "1  Control          4             21     25\n",
      "2    Total         20             30     50\n"
     ]
    }
   ],
   "source": [
    "# Define the data\n",
    "data = {\n",
    "    '': ['Treated', 'Control', 'Total'],\n",
    "    'Fruit set': [16, 4, 20],\n",
    "    'Fruit not set': [9, 21, 30],\n",
    "    'Total': [25, 25, 50]\n",
    "}\n",
    "\n",
    "# Create a DataFrame\n",
    "df = pd.DataFrame(data)\n",
    "\n",
    "# Display the DataFrame\n",
    "print(df)"
   ]
  },
  {
   "cell_type": "markdown",
   "metadata": {},
   "source": [
    "\n",
    "\n",
    "Null and Alternative Hypotheses:\n",
    "\n",
    "    Null hypothesis (H₀): The fruit setting in muskmelon and the application of growth regulator are independent.\n",
    "    \n",
    "    Alternative hypothesis (H₁): The fruit setting in muskmelon and the application of growth regulator are not independent.\n"
   ]
  },
  {
   "cell_type": "code",
   "execution_count": 7,
   "metadata": {},
   "outputs": [
    {
     "name": "stdout",
     "output_type": "stream",
     "text": [
      "Chi-square Statistic: 10.083333333333332\n",
      "Degrees of Freedom: 1\n",
      "P-value: 0.0014961642897455517\n",
      "Expected Frequencies: \n",
      "[[10. 10.]\n",
      " [15. 15.]]\n",
      "Reject the null hypothesis: The fruit setting in muskmelon and the application of growth regulator are not independent.\n"
     ]
    }
   ],
   "source": [
    "# Define the data for the Chi-square test\n",
    "data = [[16, 4], [9, 21]]\n",
    "\n",
    "# Perform Chi-square test of independence\n",
    "chi2_stat, p_value, dof, expected = stats.chi2_contingency(data)\n",
    "\n",
    "# Display the chi-square statistic, degrees of freedom, and p-value\n",
    "print(f\"Chi-square Statistic: {chi2_stat}\")\n",
    "print(f\"Degrees of Freedom: {dof}\")\n",
    "print(f\"P-value: {p_value}\")\n",
    "print(f\"Expected Frequencies: \\n{expected}\")\n",
    "\n",
    "# Conclusion\n",
    "if p_value < alpha:\n",
    "    print(\"Reject the null hypothesis: The fruit setting in muskmelon and the application of growth regulator are not independent.\")\n",
    "else:\n",
    "    print(\"Fail to reject the null hypothesis: The fruit setting in muskmelon and the application of growth regulator are independent.\")"
   ]
  }
 ],
 "metadata": {
  "kernelspec": {
   "display_name": "Python 3",
   "language": "python",
   "name": "python3"
  },
  "language_info": {
   "codemirror_mode": {
    "name": "ipython",
    "version": 3
   },
   "file_extension": ".py",
   "mimetype": "text/x-python",
   "name": "python",
   "nbconvert_exporter": "python",
   "pygments_lexer": "ipython3",
   "version": "3.11.9"
  }
 },
 "nbformat": 4,
 "nbformat_minor": 4
}
