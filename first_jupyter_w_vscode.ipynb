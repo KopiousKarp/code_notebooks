{
 "cells": [
  {
   "cell_type": "markdown",
   "metadata": {},
   "source": [
    "#  My first Jupyter notebook in VS code\n"
   ]
  },
  {
   "cell_type": "code",
   "execution_count": null,
   "metadata": {},
   "outputs": [],
   "source": [
    "arr = [1, 2, 3, 2, 1]\n",
    "\n",
    "for i in arr:\n",
    "    string = \"#\"\n",
    "    for j in range(i):\n",
    "        string += \"#\"\n",
    "    print(string)"
   ]
  },
  {
   "cell_type": "code",
   "execution_count": null,
   "metadata": {},
   "outputs": [],
   "source": [
    "class Node:\n",
    "    def __init__(self, value):\n",
    "        self.value = value\n",
    "        self.left = None\n",
    "        self.right = None\n",
    "\n",
    "class BinarySearchTree:\n",
    "    def __init__(self):\n",
    "        self.root = None\n",
    "\n",
    "    def insert(self, value):\n",
    "        if self.root is None:\n",
    "            self.root = Node(value)\n",
    "        else:\n",
    "            self._insert_recursive(self.root, value)\n",
    "\n",
    "    def _insert_recursive(self, node, value):\n",
    "        if value < node.value:\n",
    "            if node.left is None:\n",
    "                node.left = Node(value)\n",
    "            else:\n",
    "                self._insert_recursive(node.left, value)\n",
    "        else:\n",
    "            if node.right is None:\n",
    "                node.right = Node(value)\n",
    "            else:\n",
    "                self._insert_recursive(node.right, value)\n",
    "\n",
    "    def search(self, value):\n",
    "        return self._search_recursive(self.root, value)\n",
    "\n",
    "    def _search_recursive(self, node, value):\n",
    "        if node is None or node.value == value:\n",
    "            return node\n",
    "        if value < node.value:\n",
    "            return self._search_recursive(node.left, value)\n",
    "        return self._search_recursive(node.right, value)\n",
    "\n",
    "i\n",
    "    \n"
   ]
  }
 ],
 "metadata": {
  "kernelspec": {
   "display_name": "Python 3 (ipykernel)",
   "language": "python",
   "name": "python3"
  },
  "language_info": {
   "codemirror_mode": {
    "name": "ipython",
    "version": 3
   },
   "file_extension": ".py",
   "mimetype": "text/x-python",
   "name": "python",
   "nbconvert_exporter": "python",
   "pygments_lexer": "ipython3",
   "version": "3.10.12"
  }
 },
 "nbformat": 4,
 "nbformat_minor": 2
}
