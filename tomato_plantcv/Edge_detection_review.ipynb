{
 "cells": [
  {
   "cell_type": "markdown",
   "metadata": {},
   "source": [
    "# Experimentation with other Edge Detection Techniques\n",
    "### J. Cristiano\n",
    "The purpose of this notebook is to experiment with Edge detection operators and supporting algorithms that I may have overlooked. \n",
    "\n",
    "Currently, The [best that I have to offer](./plantCV_notebook.ipynb) is based on the 3x3 Sobel operator that calculates the first derivative of the image. \n",
    "\n",
    "But after [reading more](https://en.wikipedia.org/wiki/Canny_edge_detector) it occurs to me that I might have made premature conclusions on what is the \"cutting edge\" of edge detection based image segmentation.\n",
    "\n",
    "This notebook hopes to be a more comprehensive approach."
   ]
  },
  {
   "cell_type": "markdown",
   "metadata": {},
   "source": [
    "### Experimental Design\n",
    "I'll collect an assortment of brace root images. Each algorithm that is presented here will be run on those images.\n",
    "\n",
    "This will probably change as I keep working. "
   ]
  },
  {
   "cell_type": "code",
   "execution_count": null,
   "metadata": {},
   "outputs": [],
   "source": [
    "#import block\n",
    "%matplotlib inline\n",
    "import matplotlib.pyplot as plt\n",
    "import cv2\n",
    "import numpy as np\n",
    "from plantcv import plantcv as pcv"
   ]
  },
  {
   "cell_type": "markdown",
   "metadata": {},
   "source": [
    "First, lets make a function to display the images before and after the algorithm "
   ]
  },
  {
   "cell_type": "code",
   "execution_count": null,
   "metadata": {},
   "outputs": [],
   "source": [
    "def build_a_plot(before,after,cmap):\n",
    "    plt.subplot(121),plt.imshow(before,cmap=cmap),plt.title('Input')\n",
    "    plt.xticks([]), plt.yticks([])\n",
    "    plt.subplot(122),plt.imshow(after,cmap=cmap),plt.title('Output')\n",
    "    plt.xticks([]), plt.yticks([])\n",
    "    plt.show()"
   ]
  },
  {
   "cell_type": "markdown",
   "metadata": {},
   "source": [
    "### Canny Edge Detection\n",
    "\n",
    "This [algorithm designed in 1986](https://ieeexplore.ieee.org/document/4767851) is used wildly in edge detection problems.\n",
    "\n",
    "Its also already implemented in libraries such as openCV and plantCV\n"
   ]
  },
  {
   "cell_type": "code",
   "execution_count": null,
   "metadata": {},
   "outputs": [],
   "source": []
  }
 ],
 "metadata": {
  "language_info": {
   "name": "python"
  }
 },
 "nbformat": 4,
 "nbformat_minor": 2
}
