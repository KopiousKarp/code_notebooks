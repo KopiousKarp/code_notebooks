{
 "cells": [
  {
   "cell_type": "markdown",
   "metadata": {},
   "source": [
    "# Experimentation with other Edge Detection Techniques\n",
    "### J. Cristiano\n",
    "The purpose of this notebook is to experiment with Edge detection operators and supporting algorithms that I may have overlooked. \n",
    "\n",
    "Currently, The [best that I have to offer](./plantCV_notebook.ipynb) is based on the 3x3 Sobel operator that calculates the first derivative of the image. \n",
    "\n",
    "But after [reading more](https://en.wikipedia.org/wiki/Canny_edge_detector) it occurs to me that I might have made premature conclusions on what is the \"cutting edge\" of edge detection based image segmentation.\n",
    "\n",
    "This notebook hopes to be a more comprehensive approach."
   ]
  },
  {
   "cell_type": "markdown",
   "metadata": {},
   "source": [
    "### Experimental Design\n",
    "I'll collect an assortment of brace root images. Each algorithm that is presented here will be run on those images.\n",
    "\n",
    "This will probably change as I keep working. "
   ]
  },
  {
   "cell_type": "markdown",
   "metadata": {},
   "source": []
  }
 ],
 "metadata": {
  "language_info": {
   "name": "python"
  }
 },
 "nbformat": 4,
 "nbformat_minor": 2
}
