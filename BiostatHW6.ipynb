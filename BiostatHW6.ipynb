{
 "cells": [
  {
   "cell_type": "markdown",
   "metadata": {},
   "source": [
    "# Biostat Homework 6 \n",
    "J. Cristiano      \n",
    "\n",
    "### Question 1 \n",
    "A research study was conducted to examine the clinical efficacy of a new antidepressant. Depressed patients were randomly assigned to one of three groups: a placebo group, a group that received a low dose of the drug, and a group that received a moderate dose of the drug. After four weeks of treatment, the patients completed the Beck Depression Inventory. The higher the score, the more depressed the patient. The data are presented below. Compute the appropriate test.\n",
    "| **Placebo** | **Low Dose** | **Moderate Dose** |\n",
    "| --- | --- | --- |\n",
    "| 38 | 22 | 14 |\n",
    "| 47 | 19 | 26 |\n",
    "| 39 | 8 | 11 |\n",
    "| 25 | 23 | 18 |\n",
    "| 42 | 31 | 5 |"
   ]
  },
  {
   "cell_type": "code",
   "execution_count": 24,
   "metadata": {},
   "outputs": [],
   "source": [
    "import pandas as pd\n",
    "\n",
    "data = {\n",
    "    \"Placebo\": [38, 47, 39, 25, 42],\n",
    "    \"Low Dose\": [22, 19, 8, 23, 31],\n",
    "    \"Moderate Dose\": [14, 26, 11, 18, 5]\n",
    "}\n",
    "\n",
    "df = pd.DataFrame(data)\n",
    "\n",
    "# print(df)"
   ]
  },
  {
   "cell_type": "markdown",
   "metadata": {},
   "source": [
    "#### a) What would be the null hypothesis in this study?\n",
    "The null hypothesis would be that all three groups have the same variance in depression score. \n",
    "\n",
    "#### b) What is the alternative hypothesis?\n",
    "That one of the groups has a statistically significant variance in depression score. \n",
    "\n",
    "#### c) What probability level did you choose and why?\n",
    "0.05 because its standard\n",
    "\n",
    "#### d) What is your one-way ANOVA Table?"
   ]
  },
  {
   "cell_type": "code",
   "execution_count": 2,
   "metadata": {},
   "outputs": [
    {
     "name": "stdout",
     "output_type": "stream",
     "text": [
      "                   sum_sq    df          F    PR(>F)\n",
      "C(Treatment)  1484.933333   2.0  11.266566  0.001761\n",
      "Residual       790.800000  12.0                     \n"
     ]
    }
   ],
   "source": [
    "from statsmodels.formula.api import ols\n",
    "import statsmodels.api as sm\n",
    "from pprint import pprint\n",
    "\n",
    "# Melt the dataframe to long format\n",
    "df_melt = pd.melt(df.reset_index(), id_vars=['index'], value_vars=['Placebo', 'Low Dose', 'Moderate Dose'])\n",
    "df_melt.columns = ['index', 'Treatment', 'Score']\n",
    "\n",
    "\n",
    "# Perform one-way ANOVA\n",
    "model = ols('Score ~ C(Treatment)', data=df_melt).fit()\n",
    "anova_table = sm.stats.anova_lm(model, typ=2)\n",
    "\n",
    "anova_table = anova_table.fillna(' ')\n",
    "pprint(anova_table)"
   ]
  },
  {
   "cell_type": "markdown",
   "metadata": {},
   "source": [
    "#### e) Is there a significant difference between the groups?\n",
    "Yes, F-statistic (11.3) shows high differences in variance between the treatment groups (pval < .002) \n",
    "\n",
    "#### f) If there is a significant difference, where specifically are the differences?\n",
    "In order to solve this question, I will use Turkey's HSD"
   ]
  },
  {
   "cell_type": "code",
   "execution_count": 3,
   "metadata": {},
   "outputs": [
    {
     "name": "stdout",
     "output_type": "stream",
     "text": [
      "        Multiple Comparison of Means - Tukey HSD, FWER=0.05        \n",
      "===================================================================\n",
      "    group1        group2    meandiff p-adj   lower    upper  reject\n",
      "-------------------------------------------------------------------\n",
      "     Low Dose Moderate Dose     -5.8  0.515 -19.4973  7.8973  False\n",
      "     Low Dose       Placebo     17.6 0.0129   3.9027 31.2973   True\n",
      "Moderate Dose       Placebo     23.4 0.0018   9.7027 37.0973   True\n",
      "-------------------------------------------------------------------\n"
     ]
    }
   ],
   "source": [
    "from statsmodels.stats.multicomp import pairwise_tukeyhsd\n",
    "\n",
    "# Perform Tukey's HSD test\n",
    "tukey = pairwise_tukeyhsd(endog=df_melt['Score'], groups=df_melt['Treatment'], alpha=0.05)\n",
    "\n",
    "print(tukey)"
   ]
  },
  {
   "cell_type": "markdown",
   "metadata": {},
   "source": [
    "Given the results of turkey HSD, there are no significant differences in the amount of medication administered, but there are significant differences between treated groups and placebo.\n",
    "\n",
    "#### f) Interpret your answer.\n",
    "My interpretation of this is that the drug is effective, however, moderate doses do not have a significant impact when compared with lower doses, so this drug is most efficiently used in lower doses. \n",
    "\n",
    "#### g) Check assumptions of your model?\n",
    "The assumptions of one way ANOVA are such:     \n",
    "- Normality   (confirm with Shapiro-wilk test)\n",
    "- Independence   (confirm with Pearsons coorellation coeficient)\n",
    "- Homoscedasticity (confirm with Lavene's test )\n",
    "- Equal sample sizes (confirmed visually, the data table has an equal number of samples per group)"
   ]
  },
  {
   "cell_type": "code",
   "execution_count": 4,
   "metadata": {},
   "outputs": [
    {
     "name": "stdout",
     "output_type": "stream",
     "text": [
      "Shapiro test for all 3 groups\n",
      "               statistic   p_value\n",
      "Placebo         0.910683  0.471707\n",
      "Low Dose        0.952858  0.757580\n",
      "Moderate Dose   0.992005  0.986223\n",
      "Pearson correlation analysis for all group pairs\n",
      "                           correlation   p_value\n",
      "Placebo vs Low Dose          -0.061041  0.922329\n",
      "Placebo vs Moderate Dose      0.063132  0.919671\n",
      "Low Dose vs Moderate Dose    -0.250039  0.684989\n",
      "Levene's test for homogeneity of variances\n",
      "   statistic   p_value\n",
      "0   0.006501  0.993524\n"
     ]
    }
   ],
   "source": [
    "from scipy.stats import shapiro\n",
    "from scipy.stats import pearsonr\n",
    "from scipy.stats import levene\n",
    "\n",
    "# Perform Shapiro-Wilk test for each group\n",
    "shapiro_results = {}\n",
    "for column in df.columns:\n",
    "    stat, p_value = shapiro(df[column])\n",
    "    shapiro_results[column] = {'statistic': stat, 'p_value': p_value}\n",
    "\n",
    "# pprint(shapiro_results)\n",
    "# Print results in a table format\n",
    "print(\"Shapiro test for all 3 groups\")\n",
    "shapiro_df = pd.DataFrame(shapiro_results).T\n",
    "print(shapiro_df)\n",
    "\n",
    "# Perform Pearson correlation analysis for each pair of groups\n",
    "pearson_results = {}\n",
    "groups = df.columns\n",
    "\n",
    "for i in range(len(groups)):\n",
    "    for j in range(i + 1, len(groups)):\n",
    "        group1 = groups[i]\n",
    "        group2 = groups[j]\n",
    "        corr, p_value = pearsonr(df[group1], df[group2])\n",
    "        pearson_results[f'{group1} vs {group2}'] = {'correlation': corr, 'p_value': p_value}\n",
    "\n",
    "# Print results in a table format\n",
    "print(\"Pearson correlation analysis for all group pairs\")\n",
    "pearson_df = pd.DataFrame(pearson_results).T\n",
    "print(pearson_df)\n",
    "\n",
    "# Perform Levene's test for homogeneity of variances\n",
    "stat, p_value = levene(df['Placebo'], df['Low Dose'], df['Moderate Dose'])\n",
    "\n",
    "levene_results = {'statistic': stat, 'p_value': p_value}\n",
    "\n",
    "# Print results\n",
    "print(\"Levene's test for homogeneity of variances\")\n",
    "levene_df = pd.DataFrame([levene_results])\n",
    "print(levene_df)"
   ]
  },
  {
   "cell_type": "markdown",
   "metadata": {
    "vscode": {
     "languageId": "bat"
    }
   },
   "source": [
    "The Shapiro tests testing for divergence from normal distributions all fail (pval > 0.05) so we can not reject the null hypothesis of Shapiro-wilk test, which means that all groups are normally distributed.      \n",
    "The pearson correlation tests also fail (pval > 0.05) so all groups are independent from each other.      \n",
    "Lavene's test for homogeneity of variances in the groups confirms that the variances between groups is different (pval > 0.05)      \n",
    "\n",
    "These tests confirm our assumptions used for the one way anova, so we can accept the results!"
   ]
  },
  {
   "cell_type": "markdown",
   "metadata": {},
   "source": [
    "### Question 2\n",
    "Researchers have sought to examine the effect of various types of music on agitation levels in patients who are in the early and middle stages of Alzheimer's disease. Patients were selected to participate in the study based on their stage of Alzheimer's disease. Three forms of music were tested: Easy listening, Mozart, and piano interludes. While listening to music, agitation levels were recorded for the patients with a high score indicating a higher level of agitation. Scores are recorded below.       \n",
    "\n",
    "\n",
    "| Group                     | Piano Interlude | Mozart | Easy Listening |\n",
    "|---------------------------|-----------------|--------|----------------|\n",
    "| Early Stage Alzheimer's   | 21             | 9      | 29             |\n",
    "|                           | 24             | 12     | 26             |\n",
    "|                           | 22             | 10     | 30             |\n",
    "|                           | 18             | 5      | 24             |\n",
    "|                           | 20             | 9      | 26             |\n",
    "| Middle Stage Alzheimer's  | 22             | 14     | 15             |\n",
    "|                           | 20             | 18     | 18             |\n",
    "|                           | 25             | 11     | 20             |\n",
    "|                           | 18             | 9      | 13             |\n",
    "|                           | 20             | 13     | 19             |\n"
   ]
  },
  {
   "cell_type": "code",
   "execution_count": 5,
   "metadata": {},
   "outputs": [],
   "source": [
    "data = {\n",
    "    \"Group\": [\n",
    "        \"Early Stage Alzheimer's\", \"Early Stage Alzheimer's\", \n",
    "        \"Early Stage Alzheimer's\", \"Early Stage Alzheimer's\", \n",
    "        \"Early Stage Alzheimer's\", \"Middle Stage Alzheimer's\", \n",
    "        \"Middle Stage Alzheimer's\", \"Middle Stage Alzheimer's\", \n",
    "        \"Middle Stage Alzheimer's\", \"Middle Stage Alzheimer's\"\n",
    "    ],\n",
    "    \"Piano_Interlude\": [21, 24, 22, 18, 20, 22, 20, 25, 18, 20],\n",
    "    \"Mozart\": [9, 12, 10, 5, 9, 14, 18, 11, 9, 13],\n",
    "    \"Easy_Listening\": [29, 26, 30, 24, 26, 15, 18, 20, 13, 19]\n",
    "}\n",
    "\n",
    "df_music = pd.DataFrame(data)\n",
    "# print(df_music)"
   ]
  },
  {
   "cell_type": "code",
   "execution_count": 6,
   "metadata": {},
   "outputs": [
    {
     "data": {
      "image/png": "[encoded data removed]",
      "text/plain": [
       "<Figure size 1200x800 with 1 Axes>"
      ]
     },
     "metadata": {},
     "output_type": "display_data"
    }
   ],
   "source": [
    "import seaborn as sns\n",
    "\n",
    "import matplotlib.pyplot as plt\n",
    "\n",
    "# Melt the dataframe to long format for easier plotting\n",
    "df_music_melt = pd.melt(df_music, id_vars=['Group'], value_vars=['Piano_Interlude', 'Mozart', 'Easy_Listening'])\n",
    "df_music_melt.columns = ['Group', 'Music_Type', 'Agitation_Level']\n",
    "# print(df_music_melt)\n",
    "# Set the figure size\n",
    "plt.figure(figsize=(12, 8))\n",
    "\n",
    "# Create a box plot\n",
    "sns.boxplot(x='Music_Type', y='Agitation_Level', hue='Group', data=df_music_melt)\n",
    "\n",
    "# Set the title and labels\n",
    "plt.title(\"Agitation Levels in Alzheimer's Patients by Music Type and Group\")\n",
    "plt.xlabel(\"Music Type\")\n",
    "plt.ylabel(\"Agitation Level\")\n",
    "\n",
    "# Show the plot\n",
    "plt.show()"
   ]
  },
  {
   "cell_type": "markdown",
   "metadata": {},
   "source": [
    "#### b) Complete the ANOVA table."
   ]
  },
  {
   "cell_type": "code",
   "execution_count": 7,
   "metadata": {},
   "outputs": [
    {
     "name": "stdout",
     "output_type": "stream",
     "text": [
      "                        sum_sq    df         F    PR(>F)\n",
      "C(Music_Type)            740.0   2.0  49.88764       0.0\n",
      "C(Group)                  30.0   1.0  4.044944  0.055664\n",
      "C(Music_Type):C(Group)   260.0   2.0  17.52809   0.00002\n",
      "Residual                 178.0  24.0                    \n"
     ]
    }
   ],
   "source": [
    "# Perform two-way ANOVA\n",
    "model_music_two_way = ols('Agitation_Level ~ C(Music_Type) + C(Group) + C(Music_Type):C(Group)', data=df_music_melt).fit()\n",
    "anova_table_music_two_way = sm.stats.anova_lm(model_music_two_way, typ=2)\n",
    "anova_table_music_two_way = anova_table_music_two_way.fillna(' ')\n",
    "print(anova_table_music_two_way)\n"
   ]
  },
  {
   "cell_type": "markdown",
   "metadata": {},
   "source": [
    "#### c) Are there any significant main effects or an interaction effect. \n",
    "#### d)Interpret your answer\n",
    "\n",
    "According to the table. There are significant differences in agitation level due to music type (F-stat = 50 & pval < 0.05) which is supported by the boxplot, agitation does change significantly with the different music types. However, the difference between the groups, Early stage and late stage, is less significant (F-stat 4 & P-val > 0.05) which indicates that agitation is not significantly varied among the 2 groups. So the interaction between the 2 variables here, while significant (F-stat 18 & Pval < 0.05) is more explained by the variation among music types than the grouping.       \n",
    "\n",
    "#### e) Check the assumptions of your model.\n",
    "I will follow the same regimen as the previous question.      \n",
    "- Normality   (confirm with Shapiro-wilk test)\n",
    "- Independence   (confirm with Pearsons coorellation coeficient)\n",
    "- Homoscedasticity (confirm with Lavene's test )\n",
    "- Equal sample sizes (confirmed visually, the data table has an equal number of samples per group)"
   ]
  },
  {
   "cell_type": "code",
   "execution_count": 8,
   "metadata": {},
   "outputs": [
    {
     "name": "stdout",
     "output_type": "stream",
     "text": [
      "Shapiro tests for each group\n",
      "                                            statistic   p_value\n",
      "Early Stage Alzheimer's - Piano_Interlude    0.999293  0.999803\n",
      "Early Stage Alzheimer's - Mozart             0.921139  0.537315\n",
      "Early Stage Alzheimer's - Easy_Listening     0.925090  0.563289\n",
      "Middle Stage Alzheimer's - Piano_Interlude   0.941794  0.678647\n",
      "Middle Stage Alzheimer's - Mozart            0.977570  0.921218\n",
      "Middle Stage Alzheimer's - Easy_Listening    0.928264  0.584579\n",
      "Pearson Correlations for each group\n",
      "                                                               correlation   p_value\n",
      "Early Stage Alzheimer's - Piano_Interlude vs Mozart           9.647638e-01  0.007898\n",
      "Early Stage Alzheimer's - Piano_Interlude vs Easy_Listening   4.564355e-01  0.439710\n",
      "Early Stage Alzheimer's - Mozart vs Easy_Listening            4.803845e-01  0.412770\n",
      "Middle Stage Alzheimer's - Piano_Interlude vs Mozart          5.551115e-17  1.000000\n",
      "Middle Stage Alzheimer's - Piano_Interlude vs Easy_Listening  6.157935e-01  0.268791\n",
      "Middle Stage Alzheimer's - Mozart vs Easy_Listening           3.287191e-01  0.589127\n",
      "Levene's test for each group\n",
      "                          statistic   p_value\n",
      "Early Stage Alzheimer's    0.024096  0.976239\n",
      "Middle Stage Alzheimer's   0.114754  0.892552\n"
     ]
    }
   ],
   "source": [
    "# Perform Shapiro-Wilk test for each group and music type\n",
    "print(\"Shapiro tests for each group\")\n",
    "shapiro_results_music = {}\n",
    "for group in df_music['Group'].unique():\n",
    "    for music_type in ['Piano_Interlude', 'Mozart', 'Easy_Listening']:\n",
    "        stat, p_value = shapiro(df_music[df_music['Group'] == group][music_type])\n",
    "        shapiro_results_music[f'{group} - {music_type}'] = {'statistic': stat, 'p_value': p_value}\n",
    "\n",
    "# Print results in a table format\n",
    "shapiro_music_df = pd.DataFrame(shapiro_results_music).T\n",
    "print(shapiro_music_df)\n",
    "\n",
    "# Perform Pearson correlation analysis for each pair of music types within each group\n",
    "print(\"Pearson Correlations for each group\")\n",
    "pearson_results_music = {}\n",
    "for group in df_music['Group'].unique():\n",
    "    for i in range(1, len(df_music.columns) - 1):\n",
    "        for j in range(i + 1, len(df_music.columns)):\n",
    "            music_type1 = df_music.columns[i]\n",
    "            music_type2 = df_music.columns[j]\n",
    "            corr, p_value = pearsonr(df_music[df_music['Group'] == group][music_type1], df_music[df_music['Group'] == group][music_type2])\n",
    "            pearson_results_music[f'{group} - {music_type1} vs {music_type2}'] = {'correlation': corr, 'p_value': p_value}\n",
    "\n",
    "\n",
    "# Print results in a table format\n",
    "pearson_music_df = pd.DataFrame(pearson_results_music).T\n",
    "print(pearson_music_df.to_string())\n",
    "\n",
    "# Perform Levene's test for homogeneity of variances for each group\n",
    "print(\"Levene's test for each group\")\n",
    "levene_results_music = {}\n",
    "for group in df_music['Group'].unique():\n",
    "    stat, p_value = levene(\n",
    "        df_music[df_music['Group'] == group]['Piano_Interlude'],\n",
    "        df_music[df_music['Group'] == group]['Mozart'],\n",
    "        df_music[df_music['Group'] == group]['Easy_Listening'])\n",
    "    levene_results_music[group] = {'statistic': stat, 'p_value': p_value}\n",
    "# Print results in a table format\n",
    "levene_music_df = pd.DataFrame(levene_results_music).T\n",
    "print(levene_music_df)\n"
   ]
  },
  {
   "cell_type": "markdown",
   "metadata": {},
   "source": [
    "Shapiro tests all fail to reject the null hypothesis, which means that all groups follow the normal distribution.      \n",
    "Pearson coorelations show the only statistically significant relationship is between early stage patients listening to Mozart and Easy listening, note that this relationship has a very small correlation (coorelation coeficient 9.6 e-1 & pval 0.008).     \n",
    "Lavene's test between early stage and middle stage patients shows no significant differences in variance.\n",
    "\n",
    "\n",
    "The assumptions hold, we can accept the results of this test!\n",
    "\n",
    "\n",
    "### Question 3\n",
    "We have census data recording the death rate (drate, per 100,000 population) and specific age range (age) for each state. The dataset also includes the region of the country in which each state is located (region).\n",
    "\n",
    "Age is in integral years from 24 to 35, and region is coded from 1 to 4, with 1 standing for the Northeast, 2 for the North Central, 3 for the South, and 4 for the West.\n",
    "#### a) State the analysis of covariance model for a single-factor study with four groups and a continuous variable. Specify your dependent variable, factor variable, and covariate.\n",
    "\n",
    "The analysis of covariance (ANCOVA) model for a single-factor study with four groups and a continuous variable can be specified as follows:\n",
    "\n",
    "Dependent variable: `drate` (death rate)\n",
    "Factor variable: `region` (coded from 1 to 4)\n",
    "Covariate: `age` (continuous variable)\n",
    "\n",
    "The ANCOVA model can be written as:\n",
    "\n",
    "$$\n",
    "\\text{drate} = \\beta_0 + \\beta_1 \\cdot \\text{region} + \\beta_2 \\cdot \\text{age} + \\epsilon\n",
    "$$\n",
    "\n",
    "where:\n",
    "- $\\text{drate}$ is the dependent variable (death rate)\n",
    "-  $\\text{region}$ is the factor variable (with four levels: Northeast, North Central, South, and West)\n",
    "- $\\text{age}$ is the covariate (continuous variable)\n",
    "- $\\beta_0$ is the intercept\n",
    "- $\\beta_1$ and $\\beta_2$ are the coefficients for the factor variable and covariate, respectively\n",
    "- $\\epsilon$ is the error term\n"
   ]
  },
  {
   "cell_type": "code",
   "execution_count": 12,
   "metadata": {},
   "outputs": [
    {
     "name": "stdout",
     "output_type": "stream",
     "text": [
      "                            OLS Regression Results                            \n",
      "==============================================================================\n",
      "Dep. Variable:                  drate   R-squared:                       0.720\n",
      "Model:                            OLS   Adj. R-squared:                  0.695\n",
      "Method:                 Least Squares   F-statistic:                     28.97\n",
      "Date:                Thu, 05 Dec 2024   Prob (F-statistic):           6.12e-12\n",
      "Time:                        13:38:24   Log-Likelihood:                -167.12\n",
      "No. Observations:                  50   AIC:                             344.2\n",
      "Df Residuals:                      45   BIC:                             353.8\n",
      "Df Model:                           4                                         \n",
      "Covariance Type:            nonrobust                                         \n",
      "==================================================================================\n",
      "                     coef    std err          t      P>|t|      [0.025      0.975]\n",
      "----------------------------------------------------------------------------------\n",
      "Intercept        -28.6028     21.939     -1.304      0.199     -72.791      15.585\n",
      "C(region)[T.2]     1.7925      3.376      0.531      0.598      -5.007       8.592\n",
      "C(region)[T.3]     0.6980      3.182      0.219      0.827      -5.710       7.106\n",
      "C(region)[T.4]   -13.3758      3.723     -3.592      0.001     -20.875      -5.876\n",
      "age                3.9229      0.701      5.597      0.000       2.511       5.335\n",
      "==============================================================================\n",
      "Omnibus:                        6.658   Durbin-Watson:                   1.954\n",
      "Prob(Omnibus):                  0.036   Jarque-Bera (JB):                5.590\n",
      "Skew:                          -0.758   Prob(JB):                       0.0611\n",
      "Kurtosis:                       3.623   Cond. No.                         642.\n",
      "==============================================================================\n",
      "\n",
      "Notes:\n",
      "[1] Standard Errors assume that the covariance matrix of the errors is correctly specified.\n"
     ]
    }
   ],
   "source": [
    "# Load the data into a dataframe\n",
    "census_df = pd.read_csv('./BiostatHW6/CensusData.csv')\n",
    "\n",
    "# Display the first few rows of the dataframe\n",
    "# print(census_df.head())\n",
    "region_mapping = {'NE': 1, 'N Cntrl': 2, 'South': 3, 'West': 4}\n",
    "census_df['region'] = census_df['region'].map(region_mapping)\n",
    "\n",
    "# print(census_df.head())\n",
    "# Define the ANCOVA model\n",
    "model = ols('drate ~ C(region) + age', data=census_df).fit()\n",
    "\n",
    "# Print the summary of the model\n",
    "print(model.summary())"
   ]
  },
  {
   "cell_type": "markdown",
   "metadata": {},
   "source": [
    "#### b)Check the Assumptions of your ANCOVA model. \n",
    "\n",
    "The original table confirms several assumptions of ANCOVA. First, the normality of residuals is supported by the Omnibus (p = 6.658) and Jarque-Bera (p = 5.590) tests, indicating no significant departure from normality. Second, the independence of observations is partially addressed by the Durbin-Watson statistic (1.954), which shows no significant autocorrelation in the residuals. Finally, the absence of severe multicollinearity is suggested by the condition number (642).\n",
    "\n",
    "I will perform more explicit checks of:     \n",
    "- linearity \n",
    "- homogeneity of regression slopes\n",
    "- homogeneity of varience"
   ]
  },
  {
   "cell_type": "code",
   "execution_count": 11,
   "metadata": {},
   "outputs": [
    {
     "data": {
      "image/png": "[encoded data removed]",
      "text/plain": [
       "<Figure size 1200x800 with 4 Axes>"
      ]
     },
     "metadata": {},
     "output_type": "display_data"
    }
   ],
   "source": [
    "# Drop rows with missing region values\n",
    "census_df_clean = census_df\n",
    "\n",
    "\n",
    "# Create a FacetGrid with a plot for each region\n",
    "g = sns.FacetGrid(census_df_clean, col=\"region\", col_wrap=2, height=4, aspect=1.5)\n",
    "\n",
    "# Map the scatter plot with a regression line to each subplot\n",
    "g.map(sns.regplot, \"age\", \"drate\", scatter_kws={\"s\": 50}, line_kws={\"color\": \"red\"})\n",
    "\n",
    "# Set the titles and labels\n",
    "g.set_titles(\"Region {col_name}\")\n",
    "g.set_axis_labels(\"Age\", \"Death Rate\")\n",
    "\n",
    "# Show the plot\n",
    "plt.show()"
   ]
  },
  {
   "cell_type": "markdown",
   "metadata": {},
   "source": [
    "From the plots, we see that Death rate Vs Age has a linear relationship (with some outliers) for each region. This supports the assumption of linearity for ANCOVA."
   ]
  },
  {
   "cell_type": "code",
   "execution_count": 20,
   "metadata": {},
   "outputs": [
    {
     "name": "stdout",
     "output_type": "stream",
     "text": [
      "P-values for interaction terms (homogeneity of regression slopes):\n",
      "C(region)[T.2]:age    0.442177\n",
      "C(region)[T.3]:age    0.772586\n",
      "C(region)[T.4]:age    0.259362\n",
      "dtype: float64\n"
     ]
    }
   ],
   "source": [
    "# Fit the interaction model\n",
    "model_interaction = ols('drate ~ C(region) * age', data=census_df).fit()\n",
    "\n",
    "# Extract only the interaction terms\n",
    "interaction_terms = model_interaction.pvalues.filter(like=':age')\n",
    "\n",
    "# Print the interaction p-values\n",
    "print(\"P-values for interaction terms (homogeneity of regression slopes):\")\n",
    "print(interaction_terms)"
   ]
  },
  {
   "cell_type": "markdown",
   "metadata": {},
   "source": [
    "These P-values (> 0.05) indicate that the assumption of homogeneity of regression slopes holds."
   ]
  },
  {
   "cell_type": "code",
   "execution_count": 19,
   "metadata": {},
   "outputs": [
    {
     "name": "stdout",
     "output_type": "stream",
     "text": [
      "Levene test across the regions\n",
      "   statistic   p_value\n",
      "0   1.979761  0.130189\n"
     ]
    }
   ],
   "source": [
    "from scipy.stats import levene\n",
    "\n",
    "stat, p_value = levene(census_df['drate'][census_df['region'] == 1],\n",
    "                        census_df['drate'][census_df['region'] == 2],\n",
    "                        census_df['drate'][census_df['region'] == 3],\n",
    "                        census_df['drate'][census_df['region'] == 4])\n",
    "\n",
    "levene_results = {'statistic': stat, 'p_value': p_value}\n",
    "\n",
    "# Print results in a table format\n",
    "levene_df = pd.DataFrame([levene_results])\n",
    "print(\"Levene test across the regions\")\n",
    "print(levene_df)\n"
   ]
  },
  {
   "cell_type": "markdown",
   "metadata": {},
   "source": [
    "The levene tests show that the groups have equal variances and so the assumption holds\n",
    "\n",
    "All asumptions are confirmed and so we can accept this result!\n",
    "\n",
    "#### c) Conduct your analysis for testing whether or not the variable group has effects. State the hypotheses, significant level, decision rule, and your conclusion. What is p-value of test?\n",
    "I'll use a type 2 ANOVA      \n",
    "\n",
    "Hypotheses \n",
    "- **Null Hypothesis ($H_0$)**: The variable `region` has no effect on the death rate $drate\\)); i.e., the group means are equal across all levels of `region`.\n",
    "  $$\n",
    "  H_0: \\mu_{\\text{region}_1} = \\mu_{\\text{region}_2} = \\mu_{\\text{region}_3} = \\mu_{\\text{region}_4}\n",
    "  $$\n",
    "- **Alternative Hypothesis ($H_1$)**: The variable `region` has a significant effect on the death rate $drate\\)); i.e., at least one group mean differs.\n",
    "\n",
    " Decision Rule\n",
    "1. Conduct an **F-test** for the variable `region`.\n",
    "2. If the p-value for `region` is less than $alpha = 0.05$, reject the null hypothesis $H_0$. Otherwise, fail to reject $H_0$.\n",
    "\n",
    "Significance level \n",
    "$alpha = 0.05$\n"
   ]
  },
  {
   "cell_type": "code",
   "execution_count": 22,
   "metadata": {},
   "outputs": [
    {
     "name": "stdout",
     "output_type": "stream",
     "text": [
      "                sum_sq    df          F    PR(>F)\n",
      "C(region)  1645.662276   3.0   10.53823  0.000023\n",
      "age        1630.466623   1.0  31.322768  0.000001\n",
      "Residual   2342.417458  45.0                     \n"
     ]
    }
   ],
   "source": [
    "# Perform ANOVA to test the effect of region\n",
    "anova_table = sm.stats.anova_lm(model, typ=2)  # Type II ANOVA\n",
    "anova_table = anova_table.fillna(' ')\n",
    "print(anova_table)"
   ]
  },
  {
   "cell_type": "markdown",
   "metadata": {},
   "source": [
    "Based on the ANOVA results, the effect of region on the death rate (drate) is statistically significant (F-stat=10.54, p=0.000023). Therefore, we reject the null hypothesis and conclude that the death rate differs across the regions, even after accounting for the covariate age.     \n",
    "\n",
    "#### d) Make all pairwise comparisons between the group effects with 95% confidence interval. State your findings. \n",
    "\n",
    "For these comparisons, I will use Turkey's HSD again. \n"
   ]
  },
  {
   "cell_type": "code",
   "execution_count": 23,
   "metadata": {},
   "outputs": [
    {
     "name": "stdout",
     "output_type": "stream",
     "text": [
      " Multiple Comparison of Means - Tukey HSD, FWER=0.05  \n",
      "======================================================\n",
      "group1 group2 meandiff p-adj   lower    upper   reject\n",
      "------------------------------------------------------\n",
      "     1      2  -4.5278 0.6884  -15.451   6.3954  False\n",
      "     1      3  -5.1319 0.5519 -15.4534   5.1895  False\n",
      "     1      4 -24.6752    0.0 -35.4169 -13.9336   True\n",
      "     2      3  -0.6042 0.9982 -10.0639   8.8556  False\n",
      "     2      4 -20.1474    0.0  -30.064 -10.2309   True\n",
      "     3      4 -19.5433    0.0 -28.7928 -10.2937   True\n",
      "------------------------------------------------------\n"
     ]
    }
   ],
   "source": [
    "from statsmodels.stats.multicomp import pairwise_tukeyhsd\n",
    "\n",
    "# Perform Tukey's HSD test\n",
    "tukey_results = pairwise_tukeyhsd(endog=census_df['drate'], \n",
    "                                  groups=census_df['region'], \n",
    "                                  alpha=0.05)\n",
    "\n",
    "# Print results\n",
    "print(tukey_results)\n"
   ]
  },
  {
   "cell_type": "markdown",
   "metadata": {},
   "source": [
    " Findings    \n",
    "1. There is no significant difference in death rates between:\n",
    "   - Region 1 and Region 2 (\\(p = 0.6884\\)).\n",
    "   - Region 1 and Region 3 (\\(p = 0.5519\\)).\n",
    "   - Region 2 and Region 3 (\\(p = 0.9982\\)).\n",
    "\n",
    "2. There are significant differences in death rates between:\n",
    "   - Region 1 and Region 4 (\\(p < 0.0001\\)), with a mean difference of \\(-24.68\\) (95% CI: \\(-35.42\\), \\(-13.93\\)).\n",
    "   - Region 2 and Region 4 (\\(p < 0.0001\\)), with a mean difference of \\(-20.15\\) (95% CI: \\(-30.06\\), \\(-10.23\\)).\n",
    "   - Region 3 and Region 4 (\\(p < 0.0001\\)), with a mean difference of \\(-19.54\\) (95% CI: \\(-28.79\\), \\(-10.29\\)).\n",
    "\n",
    " Conclusion     \n",
    "The analysis shows that Region 4 has significantly lower death rates compared to Regions 1, 2, and 3. However, there are no significant differences in death rates between Regions 1, 2, and 3. These results highlight the substantial impact of regional differences on death rates, particularly for Region 4.\n"
   ]
  }
 ],
 "metadata": {
  "kernelspec": {
   "display_name": "Python 3 (ipykernel)",
   "language": "python",
   "name": "python3"
  },
  "language_info": {
   "codemirror_mode": {
    "name": "ipython",
    "version": 3
   },
   "file_extension": ".py",
   "mimetype": "text/x-python",
   "name": "python",
   "nbconvert_exporter": "python",
   "pygments_lexer": "ipython3",
   "version": "3.10.12"
  }
 },
 "nbformat": 4,
 "nbformat_minor": 2
}
